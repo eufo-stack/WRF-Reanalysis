{
 "cells": [
  {
   "cell_type": "markdown",
   "id": "0bc4c1ec",
   "metadata": {},
   "source": [
    "# Wrfcf Livneh 2017-02-05 to 2017-02-17 San Francisco Time Series"
   ]
  },
  {
   "cell_type": "code",
   "execution_count": 1,
   "id": "be65b503",
   "metadata": {},
   "outputs": [],
   "source": [
    "# imports\n",
    "import numpy\n",
    "import Nio\n",
    "import Ngl\n",
    "from IPython import display\n",
    "import netCDF4 as nc\n",
    "from datetime import date\n",
    "from datetime import timedelta\n",
    "import xarray as xr\n",
    "import xesmf as xe\n",
    "import matplotlib.pyplot as plt"
   ]
  },
  {
   "cell_type": "code",
   "execution_count": 2,
   "id": "dfbf7f18",
   "metadata": {},
   "outputs": [],
   "source": [
    "# reading in livneh\n",
    "fn = '/cw3e/mead/projects/cwp103/scratch/ldehaan/Livneh/ptt_2017.nc'\n",
    "liv = xr.open_dataset(fn)"
   ]
  },
  {
   "cell_type": "code",
   "execution_count": 3,
   "id": "1ee988cd",
   "metadata": {},
   "outputs": [],
   "source": [
    "# based on bias mapping\n",
    "# finding coords in livneh close to these, arbitrarily choosing the first value in the output array\n",
    "lat_ind = numpy.where(numpy.logical_and(liv['lat'].data.flatten() >= 37, liv['lat'].data.flatten() <= 38))[0][0]\n",
    "lon_ind = numpy.where(numpy.logical_and(liv['lon'].data.flatten() >= -122, liv['lon'].data.flatten() <= -121))[0][0]"
   ]
  },
  {
   "cell_type": "code",
   "execution_count": 4,
   "id": "4de60a5d",
   "metadata": {},
   "outputs": [],
   "source": [
    "# tmax values at coords for each day\n",
    "liv_arr = liv['Tmax'].isel(lat=lat_ind, lon=lon_ind)[35:46]"
   ]
  },
  {
   "cell_type": "code",
   "execution_count": 5,
   "id": "05fe44a5",
   "metadata": {},
   "outputs": [],
   "source": [
    "# reading in wrfcf tmaxes\n",
    "wrf_05 = xr.open_dataset('./wrf_05-Copy1.nc')\n",
    "wrf_06 = xr.open_dataset('./wrf_06-Copy1.nc')\n",
    "wrf_07 = xr.open_dataset('./wrf_07-Copy1.nc')\n",
    "wrf_08 = xr.open_dataset('./wrf_08-Copy1.nc')\n",
    "wrf_09 = xr.open_dataset('./wrf_09-Copy1.nc')\n",
    "wrf_10 = xr.open_dataset('./wrf_10-Copy1.nc')\n",
    "wrf_11 = xr.open_dataset('./wrf_11-Copy1.nc')\n",
    "wrf_12 = xr.open_dataset('./wrf_12-Copy1.nc')\n",
    "wrf_13 = xr.open_dataset('./wrf_13-Copy1.nc')\n",
    "wrf_14 = xr.open_dataset('./wrf_14-Copy1.nc')\n",
    "wrf_15 = xr.open_dataset('./wrf_15-Copy1.nc')\n",
    "\n",
    "wrf_lst = [wrf_05, wrf_06, wrf_07, wrf_08, wrf_09, wrf_10, wrf_11, wrf_12, wrf_13, wrf_14, wrf_15]"
   ]
  },
  {
   "cell_type": "code",
   "execution_count": 6,
   "id": "5656039d",
   "metadata": {},
   "outputs": [
    {
     "data": {
      "text/plain": [
       "[13.23635173521609,\n",
       " 12.569053461072144,\n",
       " 13.06307428303677,\n",
       " 15.975632341540745,\n",
       " 13.531722705118852,\n",
       " 14.242540876638486,\n",
       " 15.386136953201799,\n",
       " 16.92300296742036,\n",
       " 16.67779466989151,\n",
       " 20.00260856413246,\n",
       " 17.457677874811225]"
      ]
     },
     "execution_count": 6,
     "metadata": {},
     "output_type": "execute_result"
    }
   ],
   "source": [
    "# creates array of all T_2m max values at lat lon for each day\n",
    "def wrf_tmaxes():\n",
    "    result_arr = []\n",
    "    for i in wrf_lst:\n",
    "        lat_index = numpy.where(numpy.logical_and(i['lat'].data.flatten() >= 37, \n",
    "                                                 i['lat'].data.flatten() <= 38))[0][0]\n",
    "        lon_index = numpy.where(numpy.logical_and(i['lon'].data.flatten() >= -122, \n",
    "                                                 i['lon'].data.flatten() <= -121))[0][0]\n",
    "        val = i['maxes'].isel(lat=lat_ind, lon=lon_ind) - 273.15 # convert from K to C\n",
    "        result_arr.append(val.data.item(0))\n",
    "    return result_arr\n",
    "\n",
    "wrf_arr = wrf_tmaxes()\n",
    "wrf_arr"
   ]
  },
  {
   "cell_type": "code",
   "execution_count": 7,
   "id": "9b8142e6",
   "metadata": {},
   "outputs": [
    {
     "data": {
      "image/png": "[encoded data removed]",
      "text/plain": [
       "<Figure size 432x288 with 1 Axes>"
      ]
     },
     "metadata": {
      "needs_background": "light"
     },
     "output_type": "display_data"
    }
   ],
   "source": [
    "# time series plot\n",
    "y1 = liv_arr.data\n",
    "y2 = wrf_arr\n",
    "x = numpy.array(['2017-02-05', \n",
    "                '2017-02-06',\n",
    "                '2017-02-07',\n",
    "                '2017-02-08',\n",
    "                '2017-02-09',\n",
    "                '2017-02-10',\n",
    "                '2017-02-11',\n",
    "                '2017-02-12',\n",
    "                '2017-02-13',\n",
    "                '2017-02-14',\n",
    "                '2017-02-15'])\n",
    "plt.plot(x, y1) # livneh blue\n",
    "plt.plot(x, y2) # wrfcf orange\n",
    "\n",
    "# plot styling\n",
    "plt.title(\"Livneh Wrfcf Tmax Time Series, \\n San Francisco, CA (37.77, -122.42), NG-GR-NQ-BD\")\n",
    "plt.xlabel(\"Date\")\n",
    "plt.ylabel(\"Tmax (C)\")\n",
    "plt.xticks(rotation=90)\n",
    "plt.gca().legend(('Livneh','Wrfcf'))\n",
    "\n",
    "plt.show()"
   ]
  },
  {
   "cell_type": "markdown",
   "id": "21f45cd9",
   "metadata": {},
   "source": [
    "fin."
   ]
  }
 ],
 "metadata": {
  "kernelspec": {
   "display_name": "Python 3",
   "language": "python",
   "name": "python3"
  },
  "language_info": {
   "codemirror_mode": {
    "name": "ipython",
    "version": 3
   },
   "file_extension": ".py",
   "mimetype": "text/x-python",
   "name": "python",
   "nbconvert_exporter": "python",
   "pygments_lexer": "ipython3",
   "version": "3.8.0"
  }
 },
 "nbformat": 4,
 "nbformat_minor": 5
}
