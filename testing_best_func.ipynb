{
 "cells": [
  {
   "cell_type": "code",
   "execution_count": 95,
   "id": "6e37ab05",
   "metadata": {},
   "outputs": [],
   "source": [
    "# chooses next if equal\n",
    "def smallest_magnitude(next_dif, prev_dif, w_next, w_prev):\n",
    "    if abs(prev_dif) < abs(next_dif):\n",
    "        return w_prev\n",
    "    else:\n",
    "        return w_next"
   ]
  },
  {
   "cell_type": "raw",
   "id": "ae2441ed",
   "metadata": {},
   "source": [
    "# chooses prev if equal\n",
    "def smallest_magnitude(next_dif, prev_dif, w_next, w_prev):\n",
    "    if abs(next_dif) < abs(prev_dif):\n",
    "        return w_next\n",
    "    else:\n",
    "        return w_prev"
   ]
  },
  {
   "cell_type": "code",
   "execution_count": 96,
   "id": "43d86a60",
   "metadata": {},
   "outputs": [
    {
     "name": "stdout",
     "output_type": "stream",
     "text": [
      "wrf next diff:  [nan -2. -2. -2. -2. -1.]  wrf prev diff:  [nan  3.  1.  2.  2.  3.]\n"
     ]
    }
   ],
   "source": [
    "import numpy as np\n",
    "w_n = np.array([np.nan, 1, 2, 3, 4, 5])    # \"wrf\" next\n",
    "w_p = np.array([np.nan, 6, 5, 7, 8, 9])    # \"wrf\" prev\n",
    "dif = np.array([2, 3, 4, 5, 6, 6])         # \"livneh\" (producing same diff values)\n",
    "#dif = np.array([30, 40, 50, 60, 70, 80])\n",
    "n_diff = w_n - dif                         # wrf next - livneh\n",
    "p_diff = w_p - dif                         # wrf prev - livneh\n",
    "print('wrf next diff: ', n_diff, ' wrf prev diff: ', p_diff)"
   ]
  },
  {
   "cell_type": "code",
   "execution_count": 97,
   "id": "bda602df",
   "metadata": {},
   "outputs": [
    {
     "name": "stdout",
     "output_type": "stream",
     "text": [
      "nan\n",
      "1.0\n",
      "5.0\n",
      "3.0\n",
      "4.0\n",
      "5.0\n"
     ]
    }
   ],
   "source": [
    "lst = []\n",
    "for i in np.arange(len(w_n)):\n",
    "    temp = smallest_magnitude(n_diff[i],p_diff[i],w_n[i],w_p[i])\n",
    "    lst.append(temp)\n",
    "    print(temp)    # issue with picking best when diff values are the same"
   ]
  },
  {
   "cell_type": "code",
   "execution_count": 98,
   "id": "3aa99a64",
   "metadata": {},
   "outputs": [
    {
     "data": {
      "text/plain": [
       "-1.8"
      ]
     },
     "execution_count": 98,
     "metadata": {},
     "output_type": "execute_result"
    }
   ],
   "source": [
    "# next bias\n",
    "n_diff[~np.isnan(w_n)].mean()"
   ]
  },
  {
   "cell_type": "code",
   "execution_count": 99,
   "id": "9332338e",
   "metadata": {},
   "outputs": [
    {
     "data": {
      "text/plain": [
       "2.2"
      ]
     },
     "execution_count": 99,
     "metadata": {},
     "output_type": "execute_result"
    }
   ],
   "source": [
    "# prev bias\n",
    "p_diff[~np.isnan(w_p)].mean()"
   ]
  },
  {
   "cell_type": "code",
   "execution_count": 100,
   "id": "4865d03a",
   "metadata": {},
   "outputs": [
    {
     "data": {
      "text/plain": [
       "-1.2"
      ]
     },
     "execution_count": 100,
     "metadata": {},
     "output_type": "execute_result"
    }
   ],
   "source": [
    "# best-bias bias\n",
    "(np.array(lst) - dif)[~np.isnan((np.array(lst) - dif))].mean()"
   ]
  },
  {
   "cell_type": "code",
   "execution_count": null,
   "id": "d269f165",
   "metadata": {},
   "outputs": [],
   "source": []
  }
 ],
 "metadata": {
  "kernelspec": {
   "display_name": "Python 3",
   "language": "python",
   "name": "python3"
  },
  "language_info": {
   "codemirror_mode": {
    "name": "ipython",
    "version": 3
   },
   "file_extension": ".py",
   "mimetype": "text/x-python",
   "name": "python",
   "nbconvert_exporter": "python",
   "pygments_lexer": "ipython3",
   "version": "3.8.0"
  }
 },
 "nbformat": 4,
 "nbformat_minor": 5
}
