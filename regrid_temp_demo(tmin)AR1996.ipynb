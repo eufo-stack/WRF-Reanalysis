{
 "cells": [
  {
   "cell_type": "markdown",
   "id": "563f4d6c",
   "metadata": {},
   "source": [
    "# Regridding Class Tmax/Tmin (focusing on feb AR case for now)"
   ]
  },
  {
   "cell_type": "code",
   "execution_count": 1,
   "id": "3ff5d015",
   "metadata": {},
   "outputs": [],
   "source": [
    "# imports\n",
    "import numpy as np\n",
    "import xarray as xr\n",
    "import xesmf as xe\n",
    "import Nio"
   ]
  },
  {
   "cell_type": "code",
   "execution_count": 2,
   "id": "a41ac38c",
   "metadata": {},
   "outputs": [],
   "source": [
    "# day strs for AR Feb case (temporary)\n",
    "feb_AR_days = ['d02_1996-12-26','d02_1996-12-27','d02_1996-12-28','d02_1996-12-29','d02_1996-12-30',\n",
    "               'd02_1996-12-31','d02_1997-01-01','d02_1997-01-02','d02_1997-01-03','d02_1997-01-04']\n",
    "feb_AR_days_next = ['d02_1996-12-27','d02_1996-12-28','d02_1996-12-29','d02_1996-12-30','d02_1996-12-31',\n",
    "                    'd02_1997-01-01','d02_1997-01-02','d02_1997-01-03','d02_1997-01-04','d02_1997-01-05']\n",
    "feb_AR_days_prev = ['d02_1996-12-25','d02_1996-12-26','d02_1996-12-27','d02_1996-12-28','d02_1996-12-29',\n",
    "                    'd02_1996-12-30','d02_1996-12-31','d02_1997-01-01','d02_1997-01-02','d02_1997-01-03']\n",
    "\n",
    "# reading in helper files\n",
    "fn_wrf = '/cw3e/mead/projects/cwp103/production/output/2017020500/cf/NG-GR-NQ-BD/wrfcf_d02_2017-02-06_00_00_00.nc'\n",
    "fn2_liv = '/cw3e/mead/projects/cwp103/scratch/ldehaan/Livneh/ptt_2017.nc'\n",
    "\n",
    "# regridder\n",
    "da_input = xr.open_dataset(fn_wrf)\n",
    "da_input2 = xr.open_dataset(fn2_liv)\n",
    "regridder = xe.Regridder(da_input, da_input2, 'bilinear')\n",
    "\n",
    "\n",
    "# class for regridding all wrf files\n",
    "class regrid:\n",
    "    \n",
    "    # constructor initializing each case, run, and tmax/tmin option\n",
    "    def __init__(self, case, run, maxmin):\n",
    "        \n",
    "        # input verification\n",
    "        if isinstance(case, str) == False:\n",
    "            raise Exception('Case definition is not a string.')\n",
    "        elif isinstance(run, str) == False:\n",
    "            raise Exception('Run definition is not a string.')\n",
    "        elif maxmin not in ['max','min']:\n",
    "            raise Exception('Max or Min was not defined.')\n",
    "        \n",
    "        # attribute constructor\n",
    "        self.case = case\n",
    "        self.run = run\n",
    "        self.maxmin = maxmin\n",
    "    \n",
    "    # method regridding next day timing option, outputs netCDF\n",
    "    def regrid_next(self):\n",
    "        \n",
    "        # regridding for each day\n",
    "        for i in np.arange(len(feb_AR_days)):\n",
    "            print(feb_AR_days[i] + ',' + self.case + ',' + self.run + ',' + self.maxmin + ',' + 'next')\n",
    "            \n",
    "            # helper function finding max/min per pt per day\n",
    "            def value_per_pt(day, day_next):\n",
    "                def_hrs1 = ['08','09','10','11','12','13','14','15','16','17','18','19','20','21','22','23']\n",
    "                def_hrs2 = ['00','01','02','03','04','05','06','07']\n",
    "                nested = []\n",
    "                for i in def_hrs1:\n",
    "                    fn = '/cw3e/mead/projects/cwp103/production/output/'+ self.case +'/cf/'+ self.run +'/wrfcf_'+ day +'_' + i + '_00_00.nc'\n",
    "                    cdf = Nio.open_file(fn, \"r\")\n",
    "                    arr = cdf.variables[\"T_2m\"][:].flatten()\n",
    "                    nested.append(arr)\n",
    "                for j in def_hrs2:\n",
    "                    fn2 = '/cw3e/mead/projects/cwp103/production/output/'+ self.case +'/cf/'+ self.run +'/wrfcf_'+ day_next +'_' + j + '_00_00.nc'\n",
    "                    cdf2 = Nio.open_file(fn2, \"r\")\n",
    "                    arr2 = cdf2.variables[\"T_2m\"][:].flatten()\n",
    "                    nested.append(arr2)\n",
    "                ln = len(nested[0])\n",
    "                lst = []\n",
    "                for i in np.arange(ln):\n",
    "                    if self.maxmin == 'max':\n",
    "                        lst.append(max([item[i] for item in nested]))\n",
    "                    elif self.maxmin == 'min':\n",
    "                        lst.append(min([item[i] for item in nested]))\n",
    "                return lst\n",
    "            \n",
    "            day_arr = value_per_pt(feb_AR_days[i],feb_AR_days_next[i])\n",
    "            da_input['new'] = da_input['T_2m']\n",
    "            da_input['new'].data[0] = np.array_split(day_arr, 1230)\n",
    "            \n",
    "            # regridding step\n",
    "            dr_out = regridder(da_input['new'])\n",
    "            dr_out[0].to_netcdf('./wrf_'+self.case+'_'+self.run+'_'+self.maxmin+feb_AR_days[i]+'_next.nc')\n",
    "            print('File Completed')\n",
    "            \n",
    "    # method regridding prev day timing option, outputs netCDF\n",
    "    def regrid_prev(self):\n",
    "        \n",
    "        # regridding for each day\n",
    "        for i in np.arange(len(feb_AR_days)):\n",
    "            print(feb_AR_days[i] + ',' + self.case + ',' + self.run + ',' + self.maxmin + ',' + 'prev')\n",
    "            \n",
    "            # helper function finding max/min per pt per day\n",
    "            def value_per_pt2(day_prev, day):\n",
    "                def_hrs1 = ['08','09','10','11','12','13','14','15','16','17','18','19','20','21','22','23']\n",
    "                def_hrs2 = ['00','01','02','03','04','05','06','07']\n",
    "                nested = []\n",
    "                for i in def_hrs1:\n",
    "                    fn = '/cw3e/mead/projects/cwp103/production/output/'+ self.case +'/cf/'+ self.run +'/wrfcf_'+ day_prev +'_' + i + '_00_00.nc'\n",
    "                    cdf = Nio.open_file(fn, \"r\")\n",
    "                    arr = cdf.variables[\"T_2m\"][:].flatten()\n",
    "                    nested.append(arr)\n",
    "                for j in def_hrs2:\n",
    "                    fn2 = '/cw3e/mead/projects/cwp103/production/output/'+ self.case +'/cf/'+ self.run +'/wrfcf_'+ day +'_' + j + '_00_00.nc'\n",
    "                    cdf2 = Nio.open_file(fn2, \"r\")\n",
    "                    arr2 = cdf2.variables[\"T_2m\"][:].flatten()\n",
    "                    nested.append(arr2)\n",
    "                ln = len(nested[0])\n",
    "                lst = []\n",
    "                for i in np.arange(ln):\n",
    "                    if self.maxmin == 'max':\n",
    "                        lst.append(max([item[i] for item in nested]))\n",
    "                    elif self.maxmin == 'min':\n",
    "                        lst.append(min([item[i] for item in nested]))\n",
    "                return lst\n",
    "            \n",
    "            day_arr = value_per_pt2(feb_AR_days_prev[i],feb_AR_days[i])\n",
    "            da_input['new'] = da_input['T_2m']\n",
    "            da_input['new'].data[0] = np.array_split(day_arr, 1230)\n",
    "            \n",
    "            # regridding step\n",
    "            dr_out = regridder(da_input['new'])\n",
    "            dr_out[0].to_netcdf('./wrf_'+self.case+'_'+self.run+'_'+self.maxmin+feb_AR_days[i]+'_prev.nc')\n",
    "            print('File Completed')"
   ]
  },
  {
   "cell_type": "code",
   "execution_count": 3,
   "id": "91fc8d3e",
   "metadata": {},
   "outputs": [
    {
     "name": "stdout",
     "output_type": "stream",
     "text": [
      "d02_1996-12-26,1996122500,CC-TA-GF-MY,min,next\n"
     ]
    },
    {
     "name": "stderr",
     "output_type": "stream",
     "text": [
      "/cw3e/mead/projects/cwp103/scratch/eudoraf12/ncl_wrapper_environment/lib/python3.8/site-packages/xesmf/frontend.py:466: FutureWarning: ``output_sizes`` should be given in the ``dask_gufunc_kwargs`` parameter. It will be removed as direct parameter in a future version.\n",
      "  dr_out = xr.apply_ufunc(\n"
     ]
    },
    {
     "name": "stdout",
     "output_type": "stream",
     "text": [
      "File Completed\n",
      "d02_1996-12-27,1996122500,CC-TA-GF-MY,min,next\n",
      "File Completed\n",
      "d02_1996-12-28,1996122500,CC-TA-GF-MY,min,next\n",
      "File Completed\n",
      "d02_1996-12-29,1996122500,CC-TA-GF-MY,min,next\n",
      "File Completed\n",
      "d02_1996-12-30,1996122500,CC-TA-GF-MY,min,next\n",
      "File Completed\n",
      "d02_1996-12-31,1996122500,CC-TA-GF-MY,min,next\n",
      "File Completed\n",
      "d02_1997-01-01,1996122500,CC-TA-GF-MY,min,next\n",
      "File Completed\n",
      "d02_1997-01-02,1996122500,CC-TA-GF-MY,min,next\n"
     ]
    },
    {
     "ename": "NIOError",
     "evalue": "Unable to open file",
     "output_type": "error",
     "traceback": [
      "\u001b[0;31m---------------------------------------------------------------------------\u001b[0m",
      "\u001b[0;31mNIOError\u001b[0m                                  Traceback (most recent call last)",
      "\u001b[0;32m<ipython-input-3-1bc3ac19be47>\u001b[0m in \u001b[0;36m<module>\u001b[0;34m\u001b[0m\n\u001b[1;32m      5\u001b[0m \u001b[0;32mfor\u001b[0m \u001b[0mx\u001b[0m \u001b[0;32min\u001b[0m \u001b[0mruns\u001b[0m\u001b[0;34m:\u001b[0m\u001b[0;34m\u001b[0m\u001b[0;34m\u001b[0m\u001b[0m\n\u001b[1;32m      6\u001b[0m     \u001b[0mtemp\u001b[0m \u001b[0;34m=\u001b[0m \u001b[0mregrid\u001b[0m\u001b[0;34m(\u001b[0m\u001b[0;34m'1996122500'\u001b[0m\u001b[0;34m,\u001b[0m\u001b[0mx\u001b[0m\u001b[0;34m,\u001b[0m\u001b[0;34m'min'\u001b[0m\u001b[0;34m)\u001b[0m\u001b[0;34m\u001b[0m\u001b[0;34m\u001b[0m\u001b[0m\n\u001b[0;32m----> 7\u001b[0;31m     \u001b[0mtemp\u001b[0m\u001b[0;34m.\u001b[0m\u001b[0mregrid_next\u001b[0m\u001b[0;34m(\u001b[0m\u001b[0;34m)\u001b[0m\u001b[0;34m\u001b[0m\u001b[0;34m\u001b[0m\u001b[0m\n\u001b[0m\u001b[1;32m      8\u001b[0m     \u001b[0mtemp\u001b[0m\u001b[0;34m.\u001b[0m\u001b[0mregrid_prev\u001b[0m\u001b[0;34m(\u001b[0m\u001b[0;34m)\u001b[0m\u001b[0;34m\u001b[0m\u001b[0;34m\u001b[0m\u001b[0m\n",
      "\u001b[0;32m<ipython-input-2-7ec7915be916>\u001b[0m in \u001b[0;36mregrid_next\u001b[0;34m(self)\u001b[0m\n\u001b[1;32m     67\u001b[0m                 \u001b[0;32mreturn\u001b[0m \u001b[0mlst\u001b[0m\u001b[0;34m\u001b[0m\u001b[0;34m\u001b[0m\u001b[0m\n\u001b[1;32m     68\u001b[0m \u001b[0;34m\u001b[0m\u001b[0m\n\u001b[0;32m---> 69\u001b[0;31m             \u001b[0mday_arr\u001b[0m \u001b[0;34m=\u001b[0m \u001b[0mvalue_per_pt\u001b[0m\u001b[0;34m(\u001b[0m\u001b[0mfeb_AR_days\u001b[0m\u001b[0;34m[\u001b[0m\u001b[0mi\u001b[0m\u001b[0;34m]\u001b[0m\u001b[0;34m,\u001b[0m\u001b[0mfeb_AR_days_next\u001b[0m\u001b[0;34m[\u001b[0m\u001b[0mi\u001b[0m\u001b[0;34m]\u001b[0m\u001b[0;34m)\u001b[0m\u001b[0;34m\u001b[0m\u001b[0;34m\u001b[0m\u001b[0m\n\u001b[0m\u001b[1;32m     70\u001b[0m             \u001b[0mda_input\u001b[0m\u001b[0;34m[\u001b[0m\u001b[0;34m'new'\u001b[0m\u001b[0;34m]\u001b[0m \u001b[0;34m=\u001b[0m \u001b[0mda_input\u001b[0m\u001b[0;34m[\u001b[0m\u001b[0;34m'T_2m'\u001b[0m\u001b[0;34m]\u001b[0m\u001b[0;34m\u001b[0m\u001b[0;34m\u001b[0m\u001b[0m\n\u001b[1;32m     71\u001b[0m             \u001b[0mda_input\u001b[0m\u001b[0;34m[\u001b[0m\u001b[0;34m'new'\u001b[0m\u001b[0;34m]\u001b[0m\u001b[0;34m.\u001b[0m\u001b[0mdata\u001b[0m\u001b[0;34m[\u001b[0m\u001b[0;36m0\u001b[0m\u001b[0;34m]\u001b[0m \u001b[0;34m=\u001b[0m \u001b[0mnp\u001b[0m\u001b[0;34m.\u001b[0m\u001b[0marray_split\u001b[0m\u001b[0;34m(\u001b[0m\u001b[0mday_arr\u001b[0m\u001b[0;34m,\u001b[0m \u001b[0;36m1230\u001b[0m\u001b[0;34m)\u001b[0m\u001b[0;34m\u001b[0m\u001b[0;34m\u001b[0m\u001b[0m\n",
      "\u001b[0;32m<ipython-input-2-7ec7915be916>\u001b[0m in \u001b[0;36mvalue_per_pt\u001b[0;34m(day, day_next)\u001b[0m\n\u001b[1;32m     55\u001b[0m                 \u001b[0;32mfor\u001b[0m \u001b[0mj\u001b[0m \u001b[0;32min\u001b[0m \u001b[0mdef_hrs2\u001b[0m\u001b[0;34m:\u001b[0m\u001b[0;34m\u001b[0m\u001b[0;34m\u001b[0m\u001b[0m\n\u001b[1;32m     56\u001b[0m                     \u001b[0mfn2\u001b[0m \u001b[0;34m=\u001b[0m \u001b[0;34m'/cw3e/mead/projects/cwp103/production/output/'\u001b[0m\u001b[0;34m+\u001b[0m \u001b[0mself\u001b[0m\u001b[0;34m.\u001b[0m\u001b[0mcase\u001b[0m \u001b[0;34m+\u001b[0m\u001b[0;34m'/cf/'\u001b[0m\u001b[0;34m+\u001b[0m \u001b[0mself\u001b[0m\u001b[0;34m.\u001b[0m\u001b[0mrun\u001b[0m \u001b[0;34m+\u001b[0m\u001b[0;34m'/wrfcf_'\u001b[0m\u001b[0;34m+\u001b[0m \u001b[0mday_next\u001b[0m \u001b[0;34m+\u001b[0m\u001b[0;34m'_'\u001b[0m \u001b[0;34m+\u001b[0m \u001b[0mj\u001b[0m \u001b[0;34m+\u001b[0m \u001b[0;34m'_00_00.nc'\u001b[0m\u001b[0;34m\u001b[0m\u001b[0;34m\u001b[0m\u001b[0m\n\u001b[0;32m---> 57\u001b[0;31m                     \u001b[0mcdf2\u001b[0m \u001b[0;34m=\u001b[0m \u001b[0mNio\u001b[0m\u001b[0;34m.\u001b[0m\u001b[0mopen_file\u001b[0m\u001b[0;34m(\u001b[0m\u001b[0mfn2\u001b[0m\u001b[0;34m,\u001b[0m \u001b[0;34m\"r\"\u001b[0m\u001b[0;34m)\u001b[0m\u001b[0;34m\u001b[0m\u001b[0;34m\u001b[0m\u001b[0m\n\u001b[0m\u001b[1;32m     58\u001b[0m                     \u001b[0marr2\u001b[0m \u001b[0;34m=\u001b[0m \u001b[0mcdf2\u001b[0m\u001b[0;34m.\u001b[0m\u001b[0mvariables\u001b[0m\u001b[0;34m[\u001b[0m\u001b[0;34m\"T_2m\"\u001b[0m\u001b[0;34m]\u001b[0m\u001b[0;34m[\u001b[0m\u001b[0;34m:\u001b[0m\u001b[0;34m]\u001b[0m\u001b[0;34m.\u001b[0m\u001b[0mflatten\u001b[0m\u001b[0;34m(\u001b[0m\u001b[0;34m)\u001b[0m\u001b[0;34m\u001b[0m\u001b[0;34m\u001b[0m\u001b[0m\n\u001b[1;32m     59\u001b[0m                     \u001b[0mnested\u001b[0m\u001b[0;34m.\u001b[0m\u001b[0mappend\u001b[0m\u001b[0;34m(\u001b[0m\u001b[0marr2\u001b[0m\u001b[0;34m)\u001b[0m\u001b[0;34m\u001b[0m\u001b[0;34m\u001b[0m\u001b[0m\n",
      "\u001b[0;32m/cw3e/mead/projects/cwp103/scratch/eudoraf12/ncl_wrapper_environment/lib/python3.8/site-packages/PyNIO/Nio.py\u001b[0m in \u001b[0;36mopen_file\u001b[0;34m(filename, mode, options, history, format)\u001b[0m\n\u001b[1;32m    749\u001b[0m     \u001b[0mmask_above_value\u001b[0m \u001b[0;34m=\u001b[0m \u001b[0m_get_option_value\u001b[0m\u001b[0;34m(\u001b[0m\u001b[0moptions\u001b[0m\u001b[0;34m,\u001b[0m\u001b[0m_nio\u001b[0m\u001b[0;34m.\u001b[0m\u001b[0moption_defaults\u001b[0m\u001b[0;34m,\u001b[0m\u001b[0;34m'MaskAboveValue'\u001b[0m\u001b[0;34m)\u001b[0m\u001b[0;34m\u001b[0m\u001b[0;34m\u001b[0m\u001b[0m\n\u001b[1;32m    750\u001b[0m \u001b[0;34m\u001b[0m\u001b[0m\n\u001b[0;32m--> 751\u001b[0;31m     \u001b[0mfile\u001b[0m \u001b[0;34m=\u001b[0m \u001b[0m_nio\u001b[0m\u001b[0;34m.\u001b[0m\u001b[0mopen_file\u001b[0m\u001b[0;34m(\u001b[0m\u001b[0mfilename\u001b[0m\u001b[0;34m,\u001b[0m\u001b[0mmode\u001b[0m\u001b[0;34m,\u001b[0m\u001b[0moptions\u001b[0m\u001b[0;34m,\u001b[0m\u001b[0mhistory\u001b[0m\u001b[0;34m,\u001b[0m\u001b[0mformat\u001b[0m\u001b[0;34m)\u001b[0m\u001b[0;34m\u001b[0m\u001b[0;34m\u001b[0m\u001b[0m\n\u001b[0m\u001b[1;32m    752\u001b[0m \u001b[0;34m\u001b[0m\u001b[0m\n\u001b[1;32m    753\u001b[0m     \u001b[0mfile_proxy\u001b[0m \u001b[0;34m=\u001b[0m \u001b[0m_proxy\u001b[0m\u001b[0;34m(\u001b[0m\u001b[0mfile\u001b[0m\u001b[0;34m,\u001b[0m \u001b[0;34m'str'\u001b[0m\u001b[0;34m,\u001b[0m \u001b[0m__del__\u001b[0m\u001b[0;34m=\u001b[0m\u001b[0m__del__\u001b[0m\u001b[0;34m,\u001b[0m\u001b[0mcreate_variable\u001b[0m\u001b[0;34m=\u001b[0m\u001b[0mcreate_variable\u001b[0m\u001b[0;34m,\u001b[0m\u001b[0mcreate_group\u001b[0m\u001b[0;34m=\u001b[0m\u001b[0mcreate_group\u001b[0m\u001b[0;34m,\u001b[0m\u001b[0mclose\u001b[0m\u001b[0;34m=\u001b[0m\u001b[0mclose\u001b[0m\u001b[0;34m)\u001b[0m\u001b[0;34m\u001b[0m\u001b[0;34m\u001b[0m\u001b[0m\n",
      "\u001b[0;31mNIOError\u001b[0m: Unable to open file"
     ]
    }
   ],
   "source": [
    "#'NG-GR-YQ-BD','NG-SP-NQ-PO','OO-6D','OO-CO','OO-SC','PH-MO-GF-MY','PH-MO-TK-MY','PH-TH-GF-MY',\n",
    "#runs = ['PH-TH-TK-MY','VL-100','VL-120','NG-GR-NQ-PO','NG-GR-YQ-PO','NG-SP-YQ-PO','OO-CC',\n",
    "      #'NG-GR-NQ-BD','OO-NP','OO-VC','PH-MO-GF-YU','PH-MO-TK-YU','PH-TH-GF-YU','PH-TH-TK-YU','VL-110','VL-130']\n",
    "runs = ['CC-TA-GF-MY'] #'CC-TA-GF-MY', 'CC-TH-GF-M3', 'CC-TH-GF-MY', 'NC-TH-GF-MY'\n",
    "for x in runs:\n",
    "    temp = regrid('1996122500',x,'min')\n",
    "    temp.regrid_next()\n",
    "    temp.regrid_prev()"
   ]
  },
  {
   "cell_type": "markdown",
   "id": "66c6d877",
   "metadata": {},
   "source": [
    "/cw3e/mead/projects/cwp103/production/output/2006072000/cf/NC-TH-GF-MY"
   ]
  },
  {
   "cell_type": "code",
   "execution_count": null,
   "id": "6d4c52ea",
   "metadata": {},
   "outputs": [],
   "source": [
    "/cw3e/mead/projects/cwp103/production/output/1996122500/cf/CC-TA-GF-MY"
   ]
  }
 ],
 "metadata": {
  "kernelspec": {
   "display_name": "Python 3",
   "language": "python",
   "name": "python3"
  },
  "language_info": {
   "codemirror_mode": {
    "name": "ipython",
    "version": 3
   },
   "file_extension": ".py",
   "mimetype": "text/x-python",
   "name": "python",
   "nbconvert_exporter": "python",
   "pygments_lexer": "ipython3",
   "version": "3.8.0"
  }
 },
 "nbformat": 4,
 "nbformat_minor": 5
}
