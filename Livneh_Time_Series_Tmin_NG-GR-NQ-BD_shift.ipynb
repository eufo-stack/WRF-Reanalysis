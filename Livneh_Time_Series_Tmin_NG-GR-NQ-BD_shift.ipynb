{
 "cells": [
  {
   "cell_type": "markdown",
   "id": "0bc4c1ec",
   "metadata": {},
   "source": [
    "# Livneh 2017-02-05 to 2017-02-17 Multi Point Time Series"
   ]
  },
  {
   "cell_type": "code",
   "execution_count": 1,
   "id": "be65b503",
   "metadata": {},
   "outputs": [],
   "source": [
    "# imports\n",
    "import numpy\n",
    "import Nio\n",
    "import Ngl\n",
    "from IPython import display\n",
    "import netCDF4 as nc\n",
    "from datetime import date\n",
    "from datetime import timedelta\n",
    "import xarray as xr\n",
    "import xesmf as xe\n",
    "import matplotlib.pyplot as plt"
   ]
  },
  {
   "cell_type": "code",
   "execution_count": 2,
   "id": "05fe44a5",
   "metadata": {},
   "outputs": [],
   "source": [
    "# reading in livneh\n",
    "fn = '/cw3e/mead/projects/cwp103/scratch/ldehaan/Livneh/ptt_2017.nc'\n",
    "liv = xr.open_dataset(fn)"
   ]
  },
  {
   "cell_type": "code",
   "execution_count": 3,
   "id": "5656039d",
   "metadata": {},
   "outputs": [],
   "source": [
    "# Tmax values at California Point\n",
    "lat_ind = numpy.where(numpy.logical_and(liv['lat'].data.flatten() >= 35, liv['lat'].data.flatten() <= 36))[0][0]\n",
    "lon_ind = numpy.where(numpy.logical_and(liv['lon'].data.flatten() >= -120, liv['lon'].data.flatten() <= -119))[0][0]\n",
    "cal_arr = liv['Tmin'].isel(lat=lat_ind, lon=lon_ind)[36:47]"
   ]
  },
  {
   "cell_type": "code",
   "execution_count": 4,
   "id": "5e870812",
   "metadata": {},
   "outputs": [],
   "source": [
    "# Tmax values at New Mexico Point\n",
    "lat_ind1 = numpy.where(numpy.logical_and(liv['lat'].data.flatten() >= 34, liv['lat'].data.flatten() <= 35))[0][0]\n",
    "lon_ind1 = numpy.where(numpy.logical_and(liv['lon'].data.flatten() >= -105, liv['lon'].data.flatten() <= -104))[0][0]\n",
    "nm_arr = liv['Tmin'].isel(lat=lat_ind1, lon=lon_ind1)[36:47]"
   ]
  },
  {
   "cell_type": "code",
   "execution_count": 5,
   "id": "48ff4656",
   "metadata": {},
   "outputs": [],
   "source": [
    "# Tmax values at North Dakota Point\n",
    "lat_ind2 = numpy.where(numpy.logical_and(liv['lat'].data.flatten() >= 46, liv['lat'].data.flatten() <= 47))[0][0]\n",
    "lon_ind2 = numpy.where(numpy.logical_and(liv['lon'].data.flatten() >= -100, liv['lon'].data.flatten() <= -99))[0][0]\n",
    "nd_arr = liv['Tmin'].isel(lat=lat_ind2, lon=lon_ind2)[36:47]"
   ]
  },
  {
   "cell_type": "code",
   "execution_count": 6,
   "id": "b631702b",
   "metadata": {},
   "outputs": [],
   "source": [
    "# Tmax values at West 2 Point\n",
    "lat_ind3 = numpy.where(numpy.logical_and(liv['lat'].data.flatten() >= 34, liv['lat'].data.flatten() <= 35))[0][0]\n",
    "lon_ind3 = numpy.where(numpy.logical_and(liv['lon'].data.flatten() >= -108, liv['lon'].data.flatten() <= -107))[0][0]\n",
    "w2_arr = liv['Tmin'].isel(lat=lat_ind3, lon=lon_ind3)[36:47]"
   ]
  },
  {
   "cell_type": "code",
   "execution_count": 7,
   "id": "015ea5a8",
   "metadata": {},
   "outputs": [],
   "source": [
    "# West 3 Point\n",
    "lat_ind4 = numpy.where(numpy.logical_and(liv['lat'].data.flatten() >= 35, liv['lat'].data.flatten() <= 36))[0][0]\n",
    "lon_ind4 = numpy.where(numpy.logical_and(liv['lon'].data.flatten() >= -112, liv['lon'].data.flatten() <= -111))[0][0]\n",
    "w3_arr = liv['Tmin'].isel(lat=lat_ind4, lon=lon_ind4)[36:47]"
   ]
  },
  {
   "cell_type": "code",
   "execution_count": 8,
   "id": "0d7b1772",
   "metadata": {},
   "outputs": [],
   "source": [
    "# West 4 Point\n",
    "lat_ind5 = numpy.where(numpy.logical_and(liv['lat'].data.flatten() >= 35, liv['lat'].data.flatten() <= 36))[0][0]\n",
    "lon_ind5 = numpy.where(numpy.logical_and(liv['lon'].data.flatten() >= -115, liv['lon'].data.flatten() <= -114))[0][0]\n",
    "w4_arr = liv['Tmin'].isel(lat=lat_ind5, lon=lon_ind5)[36:47]"
   ]
  },
  {
   "cell_type": "code",
   "execution_count": 9,
   "id": "a6a4c226",
   "metadata": {},
   "outputs": [],
   "source": [
    "# West 5 Point\n",
    "lat_ind6 = numpy.where(numpy.logical_and(liv['lat'].data.flatten() >= 35, liv['lat'].data.flatten() <= 36))[0][0]\n",
    "lon_ind6 = numpy.where(numpy.logical_and(liv['lon'].data.flatten() >= -118, liv['lon'].data.flatten() <= -117))[0][0]\n",
    "w5_arr = liv['Tmin'].isel(lat=lat_ind6, lon=lon_ind6)[36:47]"
   ]
  },
  {
   "cell_type": "code",
   "execution_count": 10,
   "id": "20ae1496",
   "metadata": {},
   "outputs": [],
   "source": [
    "# North Point 2\n",
    "lat_ind7 = numpy.where(numpy.logical_and(liv['lat'].data.flatten() >= 36, liv['lat'].data.flatten() <= 37))[0][0]\n",
    "lon_ind7 = numpy.where(numpy.logical_and(liv['lon'].data.flatten() >= -106, liv['lon'].data.flatten() <= -105))[0][0]\n",
    "n2_arr = liv['Tmin'].isel(lat=lat_ind7, lon=lon_ind7)[36:47]"
   ]
  },
  {
   "cell_type": "code",
   "execution_count": 11,
   "id": "5e676444",
   "metadata": {},
   "outputs": [],
   "source": [
    "# North Point 3\n",
    "lat_ind8 = numpy.where(numpy.logical_and(liv['lat'].data.flatten() >= 39, liv['lat'].data.flatten() <= 40))[0][0]\n",
    "lon_ind8 = numpy.where(numpy.logical_and(liv['lon'].data.flatten() >= -106, liv['lon'].data.flatten() <= -105))[0][0]\n",
    "n3_arr = liv['Tmin'].isel(lat=lat_ind8, lon=lon_ind8)[36:47]"
   ]
  },
  {
   "cell_type": "code",
   "execution_count": 12,
   "id": "e6fc36ab",
   "metadata": {},
   "outputs": [],
   "source": [
    "# North Point 4\n",
    "lat_ind9 = numpy.where(numpy.logical_and(liv['lat'].data.flatten() >= 41, liv['lat'].data.flatten() <= 42))[0][0]\n",
    "lon_ind9 = numpy.where(numpy.logical_and(liv['lon'].data.flatten() >= -106, liv['lon'].data.flatten() <= -105))[0][0]\n",
    "n4_arr = liv['Tmin'].isel(lat=lat_ind9, lon=lon_ind9)[36:47]"
   ]
  },
  {
   "cell_type": "code",
   "execution_count": 13,
   "id": "785ef1c9",
   "metadata": {},
   "outputs": [],
   "source": [
    "# North Point 5\n",
    "lat_ind10 = numpy.where(numpy.logical_and(liv['lat'].data.flatten() >= 44, liv['lat'].data.flatten() <= 45))[0][0]\n",
    "lon_ind10 = numpy.where(numpy.logical_and(liv['lon'].data.flatten() >= -106, liv['lon'].data.flatten() <= -105))[0][0]\n",
    "n5_arr = liv['Tmin'].isel(lat=lat_ind10, lon=lon_ind10)[36:47]"
   ]
  },
  {
   "cell_type": "code",
   "execution_count": 14,
   "id": "30afeb3e",
   "metadata": {},
   "outputs": [],
   "source": [
    "# North Point 6\n",
    "lat_ind11 = numpy.where(numpy.logical_and(liv['lat'].data.flatten() >= 47, liv['lat'].data.flatten() <= 48))[0][0]\n",
    "lon_ind11 = numpy.where(numpy.logical_and(liv['lon'].data.flatten() >= -106, liv['lon'].data.flatten() <= -105))[0][0]\n",
    "n6_arr = liv['Tmin'].isel(lat=lat_ind11, lon=lon_ind11)[36:47]"
   ]
  },
  {
   "cell_type": "code",
   "execution_count": 15,
   "id": "9b8142e6",
   "metadata": {},
   "outputs": [
    {
     "data": {
      "image/png": "[encoded data removed]",
      "text/plain": [
       "<Figure size 432x288 with 1 Axes>"
      ]
     },
     "metadata": {
      "needs_background": "light"
     },
     "output_type": "display_data"
    }
   ],
   "source": [
    "# time series plot\n",
    "y1 = cal_arr\n",
    "y2 = nm_arr\n",
    "y3 = nd_arr\n",
    "y4 = w2_arr\n",
    "y5 = w3_arr\n",
    "y6 = w4_arr\n",
    "yk = w5_arr\n",
    "y7 = n2_arr\n",
    "y8 = n3_arr\n",
    "y9 = n4_arr\n",
    "y10 = n5_arr\n",
    "y11 = n6_arr\n",
    "x = numpy.array(['2017-02-06',\n",
    "                '2017-02-07',\n",
    "                '2017-02-08',\n",
    "                '2017-02-09',\n",
    "                '2017-02-10',\n",
    "                '2017-02-11',\n",
    "                '2017-02-12',\n",
    "                '2017-02-13',\n",
    "                '2017-02-14',\n",
    "                '2017-02-15',\n",
    "                '2017-02-16'])\n",
    "#plt.plot(x, y1) # cal blue\n",
    "plt.plot(x, y2) # nm orange\n",
    "plt.plot(x, y3) # nd green\n",
    "#plt.plot(x, y4, color='red') # w2 red\n",
    "#plt.plot(x, y5, color='purple') # w3 purple\n",
    "#plt.plot(x, y6, color='brown') # w4 brown\n",
    "#plt.plot(x, yk) # w5 lilac\n",
    "plt.plot(x, y7) # n2 grey\n",
    "plt.plot(x, y8) # n3 gold\n",
    "plt.plot(x, y9) # n4 cyan\n",
    "plt.plot(x, y10, color='black') # n5 black\n",
    "plt.plot(x, y11, color='yellow') # n6 yellow\n",
    "\n",
    "# plot styling\n",
    "plt.title(\"Livneh North Tmin Time Series, \\n NG-GR-NQ-BD\")\n",
    "plt.xlabel(\"Date\")\n",
    "plt.ylabel(\"Tmax (C)\")\n",
    "plt.xticks(rotation=90)\n",
    "plt.gca().legend(('NM','ND','N2','N3','N4','N5','N6'),\n",
    "                 title='Points', bbox_to_anchor=(1.05, 1), loc='upper left')\n",
    "plt.ylim([-30, 30])\n",
    "plt.show()\n",
    "#'CA','NM','ND','W2','W3','W4','W5','N2','N3','N4','N5','N6'"
   ]
  },
  {
   "cell_type": "markdown",
   "id": "21f45cd9",
   "metadata": {},
   "source": [
    "fin."
   ]
  }
 ],
 "metadata": {
  "kernelspec": {
   "display_name": "Python 3",
   "language": "python",
   "name": "python3"
  },
  "language_info": {
   "codemirror_mode": {
    "name": "ipython",
    "version": 3
   },
   "file_extension": ".py",
   "mimetype": "text/x-python",
   "name": "python",
   "nbconvert_exporter": "python",
   "pygments_lexer": "ipython3",
   "version": "3.8.0"
  }
 },
 "nbformat": 4,
 "nbformat_minor": 5
}
