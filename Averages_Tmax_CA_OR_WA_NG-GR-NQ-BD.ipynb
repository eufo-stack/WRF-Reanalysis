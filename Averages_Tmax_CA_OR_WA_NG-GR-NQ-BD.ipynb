{
 "cells": [
  {
   "cell_type": "markdown",
   "id": "876f061c",
   "metadata": {},
   "source": [
    "# Livneh and WRF California, Oregon, Washington Region Average"
   ]
  },
  {
   "cell_type": "code",
   "execution_count": 1,
   "id": "5c253daa",
   "metadata": {},
   "outputs": [],
   "source": [
    "# imports\n",
    "import os\n",
    "\n",
    "import numpy as np\n",
    "import pandas as pd\n",
    "import matplotlib.pyplot as plt\n",
    "import cartopy.crs as ccrs\n",
    "import cartopy.feature as cfeature\n",
    "import seaborn as sns\n",
    "import geopandas as gpd\n",
    "import earthpy as et\n",
    "import xarray as xr\n",
    "# Spatial subsetting of netcdf files\n",
    "import regionmask\n",
    "\n",
    "\n",
    "# Plotting options\n",
    "sns.set(font_scale=1.3)\n",
    "sns.set_style(\"white\")"
   ]
  },
  {
   "cell_type": "markdown",
   "id": "0991bd51",
   "metadata": {},
   "source": [
    "Livneh Averages"
   ]
  },
  {
   "cell_type": "code",
   "execution_count": 2,
   "id": "db2b5453",
   "metadata": {},
   "outputs": [],
   "source": [
    "# reading in livneh\n",
    "fn = '/cw3e/mead/projects/cwp103/scratch/ldehaan/Livneh/ptt_2017.nc'\n",
    "liv = xr.open_dataset(fn)\n",
    "liv_tm = liv['Tmax'][36:47]"
   ]
  },
  {
   "cell_type": "code",
   "execution_count": 3,
   "id": "b0218f47",
   "metadata": {},
   "outputs": [
    {
     "data": {
      "text/html": [
       "<div>\n",
       "<style scoped>\n",
       "    .dataframe tbody tr th:only-of-type {\n",
       "        vertical-align: middle;\n",
       "    }\n",
       "\n",
       "    .dataframe tbody tr th {\n",
       "        vertical-align: top;\n",
       "    }\n",
       "\n",
       "    .dataframe thead th {\n",
       "        text-align: right;\n",
       "    }\n",
       "</style>\n",
       "<table border=\"1\" class=\"dataframe\">\n",
       "  <thead>\n",
       "    <tr style=\"text-align: right;\">\n",
       "      <th></th>\n",
       "      <th>featurecla</th>\n",
       "      <th>scalerank</th>\n",
       "      <th>adm1_code</th>\n",
       "      <th>diss_me</th>\n",
       "      <th>iso_3166_2</th>\n",
       "      <th>wikipedia</th>\n",
       "      <th>iso_a2</th>\n",
       "      <th>adm0_sr</th>\n",
       "      <th>name</th>\n",
       "      <th>name_alt</th>\n",
       "      <th>...</th>\n",
       "      <th>name_nl</th>\n",
       "      <th>name_pl</th>\n",
       "      <th>name_pt</th>\n",
       "      <th>name_ru</th>\n",
       "      <th>name_sv</th>\n",
       "      <th>name_tr</th>\n",
       "      <th>name_vi</th>\n",
       "      <th>name_zh</th>\n",
       "      <th>ne_id</th>\n",
       "      <th>geometry</th>\n",
       "    </tr>\n",
       "  </thead>\n",
       "  <tbody>\n",
       "    <tr>\n",
       "      <th>0</th>\n",
       "      <td>Admin-1 scale rank</td>\n",
       "      <td>2</td>\n",
       "      <td>AUS-2651</td>\n",
       "      <td>2651</td>\n",
       "      <td>AU-WA</td>\n",
       "      <td>None</td>\n",
       "      <td>AU</td>\n",
       "      <td>6</td>\n",
       "      <td>Western Australia</td>\n",
       "      <td>None</td>\n",
       "      <td>...</td>\n",
       "      <td>West-Australië</td>\n",
       "      <td>Australia Zachodnia</td>\n",
       "      <td>Austrália Ocidental</td>\n",
       "      <td>Западная Австралия</td>\n",
       "      <td>Western Australia</td>\n",
       "      <td>Batı Avustralya</td>\n",
       "      <td>Tây Úc</td>\n",
       "      <td>西澳大利亚州</td>\n",
       "      <td>1159315805</td>\n",
       "      <td>MULTIPOLYGON (((113.13181 -25.95199, 113.14823...</td>\n",
       "    </tr>\n",
       "    <tr>\n",
       "      <th>1</th>\n",
       "      <td>Admin-1 scale rank</td>\n",
       "      <td>2</td>\n",
       "      <td>AUS-2650</td>\n",
       "      <td>2650</td>\n",
       "      <td>AU-NT</td>\n",
       "      <td>None</td>\n",
       "      <td>AU</td>\n",
       "      <td>6</td>\n",
       "      <td>Northern Territory</td>\n",
       "      <td>None</td>\n",
       "      <td>...</td>\n",
       "      <td>Noordelijk Territorium</td>\n",
       "      <td>Terytorium Północne</td>\n",
       "      <td>Território do Norte</td>\n",
       "      <td>Северная территория</td>\n",
       "      <td>Northern Territory</td>\n",
       "      <td>Kuzey Toprakları</td>\n",
       "      <td>Lãnh thổ Bắc Úc</td>\n",
       "      <td>北領地</td>\n",
       "      <td>1159315809</td>\n",
       "      <td>MULTIPOLYGON (((129.00196 -25.99901, 129.00196...</td>\n",
       "    </tr>\n",
       "    <tr>\n",
       "      <th>2</th>\n",
       "      <td>Admin-1 scale rank</td>\n",
       "      <td>2</td>\n",
       "      <td>AUS-2655</td>\n",
       "      <td>2655</td>\n",
       "      <td>AU-SA</td>\n",
       "      <td>None</td>\n",
       "      <td>AU</td>\n",
       "      <td>3</td>\n",
       "      <td>South Australia</td>\n",
       "      <td>None</td>\n",
       "      <td>...</td>\n",
       "      <td>Zuid-Australië</td>\n",
       "      <td>Australia Południowa</td>\n",
       "      <td>Austrália Meridional</td>\n",
       "      <td>Южная Австралия</td>\n",
       "      <td>South Australia</td>\n",
       "      <td>Güney Avustralya</td>\n",
       "      <td>Nam Úc</td>\n",
       "      <td>南澳大利亚州</td>\n",
       "      <td>1159313267</td>\n",
       "      <td>MULTIPOLYGON (((129.00196 -31.69266, 129.00196...</td>\n",
       "    </tr>\n",
       "    <tr>\n",
       "      <th>3</th>\n",
       "      <td>Admin-1 scale rank</td>\n",
       "      <td>2</td>\n",
       "      <td>AUS-2657</td>\n",
       "      <td>2657</td>\n",
       "      <td>AU-QLD</td>\n",
       "      <td>None</td>\n",
       "      <td>AU</td>\n",
       "      <td>5</td>\n",
       "      <td>Queensland</td>\n",
       "      <td>None</td>\n",
       "      <td>...</td>\n",
       "      <td>Queensland</td>\n",
       "      <td>Queensland</td>\n",
       "      <td>Queensland</td>\n",
       "      <td>Квинсленд</td>\n",
       "      <td>Queensland</td>\n",
       "      <td>Queensland</td>\n",
       "      <td>Queensland</td>\n",
       "      <td>昆士蘭州</td>\n",
       "      <td>1159315807</td>\n",
       "      <td>MULTIPOLYGON (((138.00196 -25.99901, 138.00174...</td>\n",
       "    </tr>\n",
       "    <tr>\n",
       "      <th>4</th>\n",
       "      <td>Admin-1 scale rank</td>\n",
       "      <td>2</td>\n",
       "      <td>AUS-2660</td>\n",
       "      <td>2660</td>\n",
       "      <td>AU-TAS</td>\n",
       "      <td>None</td>\n",
       "      <td>AU</td>\n",
       "      <td>5</td>\n",
       "      <td>Tasmania</td>\n",
       "      <td>None</td>\n",
       "      <td>...</td>\n",
       "      <td>Tasmanië</td>\n",
       "      <td>Tasmania</td>\n",
       "      <td>Tasmânia</td>\n",
       "      <td>Тасмания</td>\n",
       "      <td>Tasmanien</td>\n",
       "      <td>Tasmanya</td>\n",
       "      <td>Tasmania</td>\n",
       "      <td>塔斯馬尼亞州</td>\n",
       "      <td>1159313261</td>\n",
       "      <td>MULTIPOLYGON (((147.31246 -43.28038, 147.34238...</td>\n",
       "    </tr>\n",
       "  </tbody>\n",
       "</table>\n",
       "<p>5 rows × 84 columns</p>\n",
       "</div>"
      ],
      "text/plain": [
       "           featurecla  scalerank adm1_code  diss_me iso_3166_2 wikipedia  \\\n",
       "0  Admin-1 scale rank          2  AUS-2651     2651      AU-WA      None   \n",
       "1  Admin-1 scale rank          2  AUS-2650     2650      AU-NT      None   \n",
       "2  Admin-1 scale rank          2  AUS-2655     2655      AU-SA      None   \n",
       "3  Admin-1 scale rank          2  AUS-2657     2657     AU-QLD      None   \n",
       "4  Admin-1 scale rank          2  AUS-2660     2660     AU-TAS      None   \n",
       "\n",
       "  iso_a2  adm0_sr                name name_alt  ...                 name_nl  \\\n",
       "0     AU        6   Western Australia     None  ...          West-Australië   \n",
       "1     AU        6  Northern Territory     None  ...  Noordelijk Territorium   \n",
       "2     AU        3     South Australia     None  ...          Zuid-Australië   \n",
       "3     AU        5          Queensland     None  ...              Queensland   \n",
       "4     AU        5            Tasmania     None  ...                Tasmanië   \n",
       "\n",
       "                name_pl               name_pt              name_ru  \\\n",
       "0   Australia Zachodnia   Austrália Ocidental   Западная Австралия   \n",
       "1   Terytorium Północne   Território do Norte  Северная территория   \n",
       "2  Australia Południowa  Austrália Meridional      Южная Австралия   \n",
       "3            Queensland            Queensland            Квинсленд   \n",
       "4              Tasmania              Tasmânia             Тасмания   \n",
       "\n",
       "              name_sv           name_tr          name_vi name_zh       ne_id  \\\n",
       "0   Western Australia   Batı Avustralya           Tây Úc  西澳大利亚州  1159315805   \n",
       "1  Northern Territory  Kuzey Toprakları  Lãnh thổ Bắc Úc     北領地  1159315809   \n",
       "2     South Australia  Güney Avustralya           Nam Úc  南澳大利亚州  1159313267   \n",
       "3          Queensland        Queensland       Queensland    昆士蘭州  1159315807   \n",
       "4           Tasmanien          Tasmanya         Tasmania  塔斯馬尼亞州  1159313261   \n",
       "\n",
       "                                            geometry  \n",
       "0  MULTIPOLYGON (((113.13181 -25.95199, 113.14823...  \n",
       "1  MULTIPOLYGON (((129.00196 -25.99901, 129.00196...  \n",
       "2  MULTIPOLYGON (((129.00196 -31.69266, 129.00196...  \n",
       "3  MULTIPOLYGON (((138.00196 -25.99901, 138.00174...  \n",
       "4  MULTIPOLYGON (((147.31246 -43.28038, 147.34238...  \n",
       "\n",
       "[5 rows x 84 columns]"
      ]
     },
     "execution_count": 3,
     "metadata": {},
     "output_type": "execute_result"
    }
   ],
   "source": [
    "# Download natural earth data which contains state boundaries to generate AOI\n",
    "#et.data.get_data(\n",
    "    #url=\"https://www.naturalearthdata.com/http//www.naturalearthdata.com/download/50m/cultural/ne_50m_admin_1_states_provinces_lakes.zip\")\n",
    "\n",
    "states_path = \"ne_50m_admin_1_states_provinces_lakes.shp\"\n",
    "\n",
    "states_gdf = gpd.read_file(states_path)\n",
    "states_gdf.head()"
   ]
  },
  {
   "cell_type": "code",
   "execution_count": 4,
   "id": "59c8f985",
   "metadata": {},
   "outputs": [],
   "source": [
    "# You will use the bounds to determine the slice values for this data\n",
    "# Select any state in the CONUS that you wish here! California is the default\n",
    "cali_aoi = states_gdf[states_gdf.name == \"California\"]\n",
    "or_aoi = states_gdf[states_gdf.name == \"Oregon\"]\n",
    "wa_aoi = states_gdf[states_gdf.name == \"Washington\"]"
   ]
  },
  {
   "cell_type": "code",
   "execution_count": 5,
   "id": "c7666844",
   "metadata": {},
   "outputs": [
    {
     "data": {
      "image/png": "[encoded data removed]",
      "text/plain": [
       "<Figure size 432x288 with 1 Axes>"
      ]
     },
     "metadata": {},
     "output_type": "display_data"
    }
   ],
   "source": [
    "# This is the AOI of interest. You only want to calculate summary values for\n",
    "# pixels within this AOI rather the entire rectangular spatial extent.\n",
    "f, ax = plt.subplots()\n",
    "cali_aoi.plot(ax=ax)\n",
    "ax.set(title=\"California AOI Subset\")\n",
    "\n",
    "plt.show()"
   ]
  },
  {
   "cell_type": "code",
   "execution_count": 6,
   "id": "1fc60560",
   "metadata": {},
   "outputs": [
    {
     "data": {
      "image/png": "[encoded data removed]",
      "text/plain": [
       "<Figure size 432x288 with 1 Axes>"
      ]
     },
     "metadata": {},
     "output_type": "display_data"
    }
   ],
   "source": [
    "# This is the AOI of interest. You only want to calculate summary values for\n",
    "# pixels within this AOI rather the entire rectangular spatial extent.\n",
    "f, ax = plt.subplots()\n",
    "or_aoi.plot(ax=ax)\n",
    "ax.set(title=\"Oregon AOI Subset\")\n",
    "\n",
    "plt.show()"
   ]
  },
  {
   "cell_type": "code",
   "execution_count": 7,
   "id": "0d5350f0",
   "metadata": {},
   "outputs": [
    {
     "data": {
      "image/png": "[encoded data removed]",
      "text/plain": [
       "<Figure size 432x288 with 1 Axes>"
      ]
     },
     "metadata": {},
     "output_type": "display_data"
    }
   ],
   "source": [
    "# This is the AOI of interest. You only want to calculate summary values for\n",
    "# pixels within this AOI rather the entire rectangular spatial extent.\n",
    "f, ax = plt.subplots()\n",
    "wa_aoi.plot(ax=ax)\n",
    "ax.set(title=\"Washington AOI Subset\")\n",
    "\n",
    "plt.show()"
   ]
  },
  {
   "cell_type": "code",
   "execution_count": 8,
   "id": "723f7015",
   "metadata": {},
   "outputs": [],
   "source": [
    "# Create a 3d mask - this contains the true / false values identifying pixels\n",
    "# inside vs outside of the mask region\n",
    "cali_mask = regionmask.mask_3D_geopandas(cali_aoi, liv.lon, liv.lat)\n",
    "or_mask = regionmask.mask_3D_geopandas(or_aoi, liv.lon, liv.lat)\n",
    "wa_mask = regionmask.mask_3D_geopandas(wa_aoi, liv.lon, liv.lat)"
   ]
  },
  {
   "cell_type": "code",
   "execution_count": 9,
   "id": "139fd43e",
   "metadata": {},
   "outputs": [],
   "source": [
    "# Apply the mask for California to the data (comment out one individually so kernel won't crash, do not run together)\n",
    "liv_ca = liv.where(cali_mask)\n",
    "#liv_or = liv.where(or_mask)\n",
    "#liv_wa = liv.where(wa_mask)"
   ]
  },
  {
   "cell_type": "code",
   "execution_count": 10,
   "id": "f9502c7b",
   "metadata": {},
   "outputs": [],
   "source": [
    "# plotting masking for reference\n",
    "#liv_wa['Tmax'][35:37].plot(col='Time',col_wrap=1,figsize=(10, 10))\n",
    "#plt.show()"
   ]
  },
  {
   "cell_type": "markdown",
   "id": "6e812be6",
   "metadata": {},
   "source": [
    "# averaging\n",
    "def avg(area_arr):\n",
    "    sum_arr = area_arr['Tmax'][35].data\n",
    "    for i in np.arange(36, 46):\n",
    "        sum_arr += area_arr['Tmax'][i].data\n",
    "    avg = sum_arr / 11\n",
    "    return avg\n",
    "\n",
    "#ca_avg = avg(liv_ca)\n",
    "#or_avg = avg(liv_or)\n",
    "wa_avg = avg(liv_wa)\n",
    "\n",
    "#total_avg = sum(ca_avg, or_avg, wa_avg)\n",
    "total_avg = wa_avg"
   ]
  },
  {
   "cell_type": "code",
   "execution_count": 11,
   "id": "81b2e8de",
   "metadata": {},
   "outputs": [],
   "source": [
    "# averaging\n",
    "def avg(area_arr):\n",
    "    sum_arr = area_arr['Tmax'][36].data\n",
    "    for i in np.arange(37, 47):\n",
    "        sum_arr += area_arr['Tmax'][i].data\n",
    "    avg = sum_arr / 11\n",
    "    return avg\n",
    "\n",
    "ca_avg = avg(liv_ca)\n",
    "#or_avg = avg(liv_or)\n",
    "#wa_avg = avg(liv_wa)\n",
    "\n",
    "#total_avg = sum(ca_avg, or_avg, wa_avg)\n",
    "total_avg = ca_avg"
   ]
  },
  {
   "cell_type": "code",
   "execution_count": 12,
   "id": "64ba79b1",
   "metadata": {},
   "outputs": [],
   "source": [
    "# convert dif_arr to masked array to overlook NaNs\n",
    "import numpy.ma as ma\n",
    "m_out = ma.masked_invalid(total_avg)"
   ]
  },
  {
   "cell_type": "code",
   "execution_count": 13,
   "id": "85e1321a",
   "metadata": {},
   "outputs": [
    {
     "data": {
      "text/plain": [
       "8.071039227138625"
      ]
     },
     "execution_count": 13,
     "metadata": {},
     "output_type": "execute_result"
    }
   ],
   "source": [
    "# numerical avg stat over entire region\n",
    "np.mean(m_out.flatten()), min(np.unique(m_out)), max(np.unique(m_out))\n",
    "# CA: 14.835153130347974 (no shift), 15.161519240825251 (shift)\n",
    "# OR: 6.695459310620824, 6.899857756820713\n",
    "# WA: 1.7248288251415276, 2.15174068376991\n",
    "# average of region\n",
    "#np.average([14.835153130347974,6.695459310620824,1.7248288251415276])\n",
    "np.average([15.161519240825251, 6.899857756820713, 2.15174068376991])"
   ]
  },
  {
   "cell_type": "markdown",
   "id": "83305a32",
   "metadata": {},
   "source": [
    "WRF Average"
   ]
  },
  {
   "cell_type": "markdown",
   "id": "f5dd6db4",
   "metadata": {},
   "source": [
    "# reading in wrf tmaxes\n",
    "wrf_05a = xr.open_dataset('./wrf_05.nc')\n",
    "wrf_06a = xr.open_dataset('./wrf_06.nc')\n",
    "wrf_07a = xr.open_dataset('./wrf_07.nc')\n",
    "wrf_08a = xr.open_dataset('./wrf_08.nc')\n",
    "wrf_09a = xr.open_dataset('./wrf_09.nc')\n",
    "wrf_10a = xr.open_dataset('./wrf_10.nc')\n",
    "wrf_11a = xr.open_dataset('./wrf_11.nc')\n",
    "wrf_12a = xr.open_dataset('./wrf_12.nc')\n",
    "wrf_13a = xr.open_dataset('./wrf_13.nc')\n",
    "wrf_14a = xr.open_dataset('./wrf_14.nc')\n",
    "wrf_15a = xr.open_dataset('./wrf_15.nc')\n",
    "wrf_lsta = [wrf_05a, wrf_06a, wrf_07a, wrf_08a, wrf_09a, wrf_10a, wrf_11a, wrf_12a, wrf_13a, wrf_14a, wrf_15a]"
   ]
  },
  {
   "cell_type": "code",
   "execution_count": 14,
   "id": "6767eed0",
   "metadata": {},
   "outputs": [],
   "source": [
    "# reading in wrf tmaxes shifted\n",
    "wrf_06a1 = xr.open_dataset('./wrf_06_prev-Copy1.nc')\n",
    "wrf_07a1 = xr.open_dataset('./wrf_07_prev-Copy1.nc')\n",
    "wrf_08a1 = xr.open_dataset('./wrf_08_prev-Copy1.nc')\n",
    "wrf_09a1 = xr.open_dataset('./wrf_09_prev-Copy1.nc')\n",
    "wrf_10a1 = xr.open_dataset('./wrf_10_prev-Copy1.nc')\n",
    "wrf_11a1 = xr.open_dataset('./wrf_11_prev-Copy1.nc')\n",
    "wrf_12a1 = xr.open_dataset('./wrf_12_prev-Copy1.nc')\n",
    "wrf_13a1 = xr.open_dataset('./wrf_13_prev-Copy1.nc')\n",
    "wrf_14a1 = xr.open_dataset('./wrf_14_prev-Copy1.nc')\n",
    "wrf_15a1 = xr.open_dataset('./wrf_15_prev-Copy1.nc')\n",
    "wrf_16a1 = xr.open_dataset('./wrf_16_prev-Copy1.nc')\n",
    "wrf_lsta = [wrf_06a1, wrf_07a1, wrf_08a1, wrf_09a1, wrf_10a1, wrf_11a1, wrf_12a1, wrf_13a1, wrf_14a1, wrf_15a1, wrf_16a1]"
   ]
  },
  {
   "cell_type": "code",
   "execution_count": 15,
   "id": "d13e78f7",
   "metadata": {},
   "outputs": [],
   "source": [
    "# Apply the mask for California to the data (input different masks to find wrf respective averages)\n",
    "wrf_lst = []\n",
    "for i in wrf_lsta:\n",
    "    temp = i.where(wa_mask)\n",
    "    wrf_lst.append(temp)"
   ]
  },
  {
   "cell_type": "code",
   "execution_count": 16,
   "id": "e4678450",
   "metadata": {},
   "outputs": [],
   "source": [
    "# averaging\n",
    "sum_arr1 = wrf_lst[0]['maxes'].data\n",
    "for i in wrf_lst[1:12]:\n",
    "    sum_arr1 += i['maxes'].data\n",
    "avg1 = sum_arr1 / 11\n",
    "\n",
    "# change 0.0 to NaNs\n",
    "avg1[avg1 == 0.0] = 'nan'"
   ]
  },
  {
   "cell_type": "code",
   "execution_count": 17,
   "id": "8878104e",
   "metadata": {},
   "outputs": [],
   "source": [
    "# convert dif_arr to masked array to overlook NaNs\n",
    "import numpy.ma as ma\n",
    "m_out1 = ma.masked_invalid(avg1)\n",
    "\n",
    "# convert from K to C\n",
    "m_out1 = m_out1 - 273.15"
   ]
  },
  {
   "cell_type": "code",
   "execution_count": 18,
   "id": "ed81b00e",
   "metadata": {},
   "outputs": [
    {
     "data": {
      "text/plain": [
       "3.027402841024625"
      ]
     },
     "execution_count": 18,
     "metadata": {},
     "output_type": "execute_result"
    }
   ],
   "source": [
    "# numerical average over entire region\n",
    "np.mean(m_out1.flatten())\n",
    "# CA: 13.727664636849648, (shifted is same for all)\n",
    "# OR: 6.32100706598035, \n",
    "# WA: 3.027402841024625, \n",
    "#np.mean([13.727664636849648,6.32100706598035,3.027402841024625])"
   ]
  },
  {
   "cell_type": "markdown",
   "id": "2ebbdc07",
   "metadata": {},
   "source": [
    "fin."
   ]
  }
 ],
 "metadata": {
  "kernelspec": {
   "display_name": "Python 3",
   "language": "python",
   "name": "python3"
  },
  "language_info": {
   "codemirror_mode": {
    "name": "ipython",
    "version": 3
   },
   "file_extension": ".py",
   "mimetype": "text/x-python",
   "name": "python",
   "nbconvert_exporter": "python",
   "pygments_lexer": "ipython3",
   "version": "3.8.0"
  }
 },
 "nbformat": 4,
 "nbformat_minor": 5
}
