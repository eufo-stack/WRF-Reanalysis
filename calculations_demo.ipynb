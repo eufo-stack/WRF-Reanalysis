{
 "cells": [
  {
   "cell_type": "markdown",
   "id": "117c16b1",
   "metadata": {},
   "source": [
    "# Bias and RMSE Calculations Demo"
   ]
  },
  {
   "cell_type": "code",
   "execution_count": 1,
   "id": "60c6c4b9",
   "metadata": {},
   "outputs": [
    {
     "name": "stdout",
     "output_type": "stream",
     "text": [
      "Requirement already satisfied: xarray in /cw3e/mead/projects/cwp103/scratch/eudoraf12/ncl_wrapper_environment/lib/python3.8/site-packages (0.18.2)\n",
      "Requirement already satisfied: numpy>=1.17 in /cw3e/mead/projects/cwp103/scratch/eudoraf12/ncl_wrapper_environment/lib/python3.8/site-packages (from xarray) (1.20.3)\n",
      "Requirement already satisfied: setuptools>=40.4 in /cw3e/mead/projects/cwp103/scratch/eudoraf12/ncl_wrapper_environment/lib/python3.8/site-packages (from xarray) (52.0.0.post20210125)\n",
      "Requirement already satisfied: pandas>=1.0 in /cw3e/mead/projects/cwp103/scratch/eudoraf12/ncl_wrapper_environment/lib/python3.8/site-packages (from xarray) (1.2.4)\n",
      "Requirement already satisfied: python-dateutil>=2.7.3 in /cw3e/mead/projects/cwp103/scratch/eudoraf12/ncl_wrapper_environment/lib/python3.8/site-packages (from pandas>=1.0->xarray) (2.8.1)\n",
      "Requirement already satisfied: pytz>=2017.3 in /cw3e/mead/projects/cwp103/scratch/eudoraf12/ncl_wrapper_environment/lib/python3.8/site-packages (from pandas>=1.0->xarray) (2021.1)\n",
      "Requirement already satisfied: six>=1.5 in /cw3e/mead/projects/cwp103/scratch/eudoraf12/ncl_wrapper_environment/lib/python3.8/site-packages (from python-dateutil>=2.7.3->pandas>=1.0->xarray) (1.16.0)\n"
     ]
    },
    {
     "ename": "ImportError",
     "evalue": "libtbb.so.2: cannot open shared object file: No such file or directory",
     "output_type": "error",
     "traceback": [
      "\u001b[0;31m---------------------------------------------------------------------------\u001b[0m",
      "\u001b[0;31mImportError\u001b[0m                               Traceback (most recent call last)",
      "\u001b[0;32m<ipython-input-1-fcf4b25f3f21>\u001b[0m in \u001b[0;36m<module>\u001b[0;34m\u001b[0m\n\u001b[1;32m      6\u001b[0m \u001b[0;32mimport\u001b[0m \u001b[0mnumpy\u001b[0m \u001b[0;32mas\u001b[0m \u001b[0mnp\u001b[0m\u001b[0;34m\u001b[0m\u001b[0;34m\u001b[0m\u001b[0m\n\u001b[1;32m      7\u001b[0m \u001b[0;32mimport\u001b[0m \u001b[0mpandas\u001b[0m \u001b[0;32mas\u001b[0m \u001b[0mpd\u001b[0m\u001b[0;34m\u001b[0m\u001b[0;34m\u001b[0m\u001b[0m\n\u001b[0;32m----> 8\u001b[0;31m \u001b[0;32mimport\u001b[0m \u001b[0mxarray\u001b[0m \u001b[0;32mas\u001b[0m \u001b[0mxr\u001b[0m\u001b[0;34m\u001b[0m\u001b[0;34m\u001b[0m\u001b[0m\n\u001b[0m\u001b[1;32m      9\u001b[0m \u001b[0mcwd\u001b[0m \u001b[0;34m=\u001b[0m \u001b[0mos\u001b[0m\u001b[0;34m.\u001b[0m\u001b[0mgetcwd\u001b[0m\u001b[0;34m(\u001b[0m\u001b[0;34m)\u001b[0m\u001b[0;34m\u001b[0m\u001b[0;34m\u001b[0m\u001b[0m\n\u001b[1;32m     10\u001b[0m \u001b[0mcwd\u001b[0m\u001b[0;34m\u001b[0m\u001b[0;34m\u001b[0m\u001b[0m\n",
      "\u001b[0;32m/cw3e/mead/projects/cwp103/scratch/eudoraf12/ncl_wrapper_environment/lib/python3.8/site-packages/xarray/__init__.py\u001b[0m in \u001b[0;36m<module>\u001b[0;34m\u001b[0m\n\u001b[1;32m      1\u001b[0m \u001b[0;32mimport\u001b[0m \u001b[0mpkg_resources\u001b[0m\u001b[0;34m\u001b[0m\u001b[0;34m\u001b[0m\u001b[0m\n\u001b[1;32m      2\u001b[0m \u001b[0;34m\u001b[0m\u001b[0m\n\u001b[0;32m----> 3\u001b[0;31m \u001b[0;32mfrom\u001b[0m \u001b[0;34m.\u001b[0m \u001b[0;32mimport\u001b[0m \u001b[0mtesting\u001b[0m\u001b[0;34m,\u001b[0m \u001b[0mtutorial\u001b[0m\u001b[0;34m,\u001b[0m \u001b[0mufuncs\u001b[0m\u001b[0;34m\u001b[0m\u001b[0;34m\u001b[0m\u001b[0m\n\u001b[0m\u001b[1;32m      4\u001b[0m from .backends.api import (\n\u001b[1;32m      5\u001b[0m     \u001b[0mload_dataarray\u001b[0m\u001b[0;34m,\u001b[0m\u001b[0;34m\u001b[0m\u001b[0;34m\u001b[0m\u001b[0m\n",
      "\u001b[0;32m/cw3e/mead/projects/cwp103/scratch/eudoraf12/ncl_wrapper_environment/lib/python3.8/site-packages/xarray/tutorial.py\u001b[0m in \u001b[0;36m<module>\u001b[0;34m\u001b[0m\n\u001b[1;32m     11\u001b[0m \u001b[0;32mimport\u001b[0m \u001b[0mnumpy\u001b[0m \u001b[0;32mas\u001b[0m \u001b[0mnp\u001b[0m\u001b[0;34m\u001b[0m\u001b[0;34m\u001b[0m\u001b[0m\n\u001b[1;32m     12\u001b[0m \u001b[0;34m\u001b[0m\u001b[0m\n\u001b[0;32m---> 13\u001b[0;31m \u001b[0;32mfrom\u001b[0m \u001b[0;34m.\u001b[0m\u001b[0mbackends\u001b[0m\u001b[0;34m.\u001b[0m\u001b[0mapi\u001b[0m \u001b[0;32mimport\u001b[0m \u001b[0mopen_dataset\u001b[0m \u001b[0;32mas\u001b[0m \u001b[0m_open_dataset\u001b[0m\u001b[0;34m\u001b[0m\u001b[0;34m\u001b[0m\u001b[0m\n\u001b[0m\u001b[1;32m     14\u001b[0m \u001b[0;32mfrom\u001b[0m \u001b[0;34m.\u001b[0m\u001b[0mbackends\u001b[0m\u001b[0;34m.\u001b[0m\u001b[0mrasterio_\u001b[0m \u001b[0;32mimport\u001b[0m \u001b[0mopen_rasterio\u001b[0m \u001b[0;32mas\u001b[0m \u001b[0m_open_rasterio\u001b[0m\u001b[0;34m\u001b[0m\u001b[0;34m\u001b[0m\u001b[0m\n\u001b[1;32m     15\u001b[0m \u001b[0;32mfrom\u001b[0m \u001b[0;34m.\u001b[0m\u001b[0mcore\u001b[0m\u001b[0;34m.\u001b[0m\u001b[0mdataarray\u001b[0m \u001b[0;32mimport\u001b[0m \u001b[0mDataArray\u001b[0m\u001b[0;34m\u001b[0m\u001b[0;34m\u001b[0m\u001b[0m\n",
      "\u001b[0;32m/cw3e/mead/projects/cwp103/scratch/eudoraf12/ncl_wrapper_environment/lib/python3.8/site-packages/xarray/backends/__init__.py\u001b[0m in \u001b[0;36m<module>\u001b[0;34m\u001b[0m\n\u001b[1;32m     13\u001b[0m \u001b[0;32mfrom\u001b[0m \u001b[0;34m.\u001b[0m\u001b[0mpseudonetcdf_\u001b[0m \u001b[0;32mimport\u001b[0m \u001b[0mPseudoNetCDFDataStore\u001b[0m\u001b[0;34m\u001b[0m\u001b[0;34m\u001b[0m\u001b[0m\n\u001b[1;32m     14\u001b[0m \u001b[0;32mfrom\u001b[0m \u001b[0;34m.\u001b[0m\u001b[0mpydap_\u001b[0m \u001b[0;32mimport\u001b[0m \u001b[0mPydapDataStore\u001b[0m\u001b[0;34m\u001b[0m\u001b[0;34m\u001b[0m\u001b[0m\n\u001b[0;32m---> 15\u001b[0;31m \u001b[0;32mfrom\u001b[0m \u001b[0;34m.\u001b[0m\u001b[0mpynio_\u001b[0m \u001b[0;32mimport\u001b[0m \u001b[0mNioDataStore\u001b[0m\u001b[0;34m\u001b[0m\u001b[0;34m\u001b[0m\u001b[0m\n\u001b[0m\u001b[1;32m     16\u001b[0m \u001b[0;32mfrom\u001b[0m \u001b[0;34m.\u001b[0m\u001b[0mscipy_\u001b[0m \u001b[0;32mimport\u001b[0m \u001b[0mScipyDataStore\u001b[0m\u001b[0;34m\u001b[0m\u001b[0;34m\u001b[0m\u001b[0m\n\u001b[1;32m     17\u001b[0m \u001b[0;32mfrom\u001b[0m \u001b[0;34m.\u001b[0m\u001b[0mzarr\u001b[0m \u001b[0;32mimport\u001b[0m \u001b[0mZarrStore\u001b[0m\u001b[0;34m\u001b[0m\u001b[0;34m\u001b[0m\u001b[0m\n",
      "\u001b[0;32m/cw3e/mead/projects/cwp103/scratch/eudoraf12/ncl_wrapper_environment/lib/python3.8/site-packages/xarray/backends/pynio_.py\u001b[0m in \u001b[0;36m<module>\u001b[0;34m\u001b[0m\n\u001b[1;32m     16\u001b[0m \u001b[0;34m\u001b[0m\u001b[0m\n\u001b[1;32m     17\u001b[0m \u001b[0;32mtry\u001b[0m\u001b[0;34m:\u001b[0m\u001b[0;34m\u001b[0m\u001b[0;34m\u001b[0m\u001b[0m\n\u001b[0;32m---> 18\u001b[0;31m     \u001b[0;32mimport\u001b[0m \u001b[0mNio\u001b[0m\u001b[0;34m\u001b[0m\u001b[0;34m\u001b[0m\u001b[0m\n\u001b[0m\u001b[1;32m     19\u001b[0m \u001b[0;34m\u001b[0m\u001b[0m\n\u001b[1;32m     20\u001b[0m     \u001b[0mhas_pynio\u001b[0m \u001b[0;34m=\u001b[0m \u001b[0;32mTrue\u001b[0m\u001b[0;34m\u001b[0m\u001b[0;34m\u001b[0m\u001b[0m\n",
      "\u001b[0;32m/cw3e/mead/projects/cwp103/scratch/eudoraf12/ncl_wrapper_environment/lib/python3.8/site-packages/PyNIO/Nio.py\u001b[0m in \u001b[0;36m<module>\u001b[0;34m\u001b[0m\n\u001b[1;32m     81\u001b[0m '''\n\u001b[1;32m     82\u001b[0m \u001b[0;32mfrom\u001b[0m \u001b[0m__future__\u001b[0m \u001b[0;32mimport\u001b[0m \u001b[0mprint_function\u001b[0m\u001b[0;34m\u001b[0m\u001b[0;34m\u001b[0m\u001b[0m\n\u001b[0;32m---> 83\u001b[0;31m \u001b[0;32mfrom\u001b[0m \u001b[0m_nio\u001b[0m \u001b[0;32mimport\u001b[0m \u001b[0;34m*\u001b[0m\u001b[0;34m\u001b[0m\u001b[0;34m\u001b[0m\u001b[0m\n\u001b[0m\u001b[1;32m     84\u001b[0m \u001b[0;34m\u001b[0m\u001b[0m\n\u001b[1;32m     85\u001b[0m \u001b[0;31m#\u001b[0m\u001b[0;34m\u001b[0m\u001b[0;34m\u001b[0m\u001b[0;34m\u001b[0m\u001b[0m\n",
      "\u001b[0;31mImportError\u001b[0m: libtbb.so.2: cannot open shared object file: No such file or directory"
     ]
    }
   ],
   "source": [
    "# imports\n",
    "import sys\n",
    "!{sys.executable} -m pip install xarray\n",
    "import os\n",
    "import fnmatch\n",
    "import numpy as np\n",
    "import pandas as pd\n",
    "import xarray as xr\n",
    "cwd = os.getcwd()\n",
    "cwd"
   ]
  },
  {
   "cell_type": "code",
   "execution_count": null,
   "id": "bf7fd855",
   "metadata": {},
   "outputs": [],
   "source": [
    "# get files\n",
    "for file_name in os.listdir('/home/eudoraf12/Livneh Wrfcf NG-GR-NQ-BD/script_demo'):\n",
    "    if fnmatch.fnmatch(file_name, 'wrf_2017020500_NG-GR-NQ-BD_'+'max'+'*_prev.nc'):\n",
    "        print(file_name)"
   ]
  },
  {
   "cell_type": "code",
   "execution_count": null,
   "id": "cc45fbf1",
   "metadata": {},
   "outputs": [],
   "source": [
    "# helper variables\n",
    "fn = '/cw3e/mead/projects/cwp103/scratch/ldehaan/Livneh/ptt_2017.nc'\n",
    "liv_file = xr.open_dataset(fn)\n",
    "liv_days = [36,37,38,39,40,41,42,43,44,45]    # AR case specific\n",
    "days_next = ['n0','n1','n2','n3','n4','n5','n6','n7','n8','n9']\n",
    "days_prev = ['p0','p1','p2','p3','p4','p5','p6','p7','p8','p9']\n",
    "\n",
    "# class for calculating bias and RMSE\n",
    "class stats:\n",
    "    \n",
    "    # constructor initializing case, run, and tmax/tmin option\n",
    "    def __init__ (self, case, run, maxmin):\n",
    "                \n",
    "        # input verification\n",
    "        if isinstance(case, str) == False:\n",
    "            raise Exception('Case definition is not a string.')\n",
    "        elif isinstance(run, str) == False:\n",
    "            raise Exception('Run definition is not a string.')\n",
    "        elif maxmin not in ['max','min']:\n",
    "            raise Exception('Max or Min was not defined.')\n",
    "        \n",
    "        # attribute constructor\n",
    "        self.case = case\n",
    "        self.run = run\n",
    "        self.maxmin = maxmin\n",
    "        self.fn_prev = []\n",
    "        self.fn_next = []\n",
    "        self.base_df = pd.DataFrame()\n",
    "        \n",
    "    # populating initial dataframe\n",
    "    def insert_col(self, file_lst, df, timing_str):\n",
    "        num = 0\n",
    "        for x in sorted(file_lst):\n",
    "            dt = (xr.open_dataarray('./' + x)).data.flatten()\n",
    "            print(x)\n",
    "            df[timing_str + str(num)] = dt\n",
    "            num += 1\n",
    "        \n",
    "    # collecting filenames for next and prev timing options, populating base_df\n",
    "    def read(self):\n",
    "        for file_name in os.listdir('/home/eudoraf12/Livneh Wrfcf NG-GR-NQ-BD/script_demo'):\n",
    "            if fnmatch.fnmatch(file_name, 'wrf_' + self.case + '_' + self.run + '_' + self.maxmin + '*_prev.nc'):\n",
    "                self.fn_prev.append(file_name)\n",
    "            elif fnmatch.fnmatch(file_name, 'wrf_' + self.case + '_' + self.run + '_' + self.maxmin + '*_next.nc'):\n",
    "                self.fn_next.append(file_name)\n",
    "        self.insert_col(self.fn_prev, self.base_df, 'p')\n",
    "        self.insert_col(self.fn_next, self.base_df, 'n')\n",
    "        \n",
    "    # df getter method\n",
    "    def df_getter(self):\n",
    "        return self.base_df\n",
    "    \n",
    "    # fn_prev getter method\n",
    "    def fn_prev_get(self):\n",
    "        return sorted(self.fn_prev)\n",
    "    \n",
    "    # subtracting dataframe col from livneh\n",
    "    def diff(self, num_str, day, table, out, maxmin_str):\n",
    "        liv = liv_file[maxmin_str][day].data.flatten()\n",
    "        table[num_str][table[num_str] == 0.0] = np.NAN\n",
    "        table[num_str] = table[num_str] - 273.15\n",
    "        subtr = np.subtract(np.array(table[num_str]), liv)\n",
    "        out[num_str] = subtr\n",
    "    \n",
    "    # calculating bias\n",
    "    def bias_calc(self, diff_df):\n",
    "        bias = diff_df.values.flatten()[~np.isnan(diff_df.values.flatten())].mean()\n",
    "        return 'Bias: ' + str(round(bias, 2))\n",
    "    \n",
    "    # calculating RMSE\n",
    "    def rmse_calc(self, diff_df):\n",
    "        sq_all = diff_df**2\n",
    "        rmse = np.sqrt(sq_all.values.flatten()[~np.isnan(sq_all.values.flatten())].mean())\n",
    "        return 'RMSE: ' + str(round(rmse, 2))\n",
    "    \n",
    "    # bias and RMSE calculation for next-day and previous-day timing options\n",
    "    def next_prev_calc(self):\n",
    "        next_pd = pd.DataFrame()\n",
    "        prev_pd = pd.DataFrame()\n",
    "        for a in np.arange(len(liv_days)):\n",
    "            self.diff(days_next[a], liv_days[a], self.base_df, next_pd, 'T' + self.maxmin)\n",
    "            self.diff(days_prev[a], liv_days[a], self.base_df, prev_pd, 'T' + self.maxmin)\n",
    "        return self.bias_calc(next_pd), self.rmse_calc(next_pd), self.bias_calc(prev_pd), self.rmse_calc(prev_pd)"
   ]
  },
  {
   "cell_type": "code",
   "execution_count": null,
   "id": "132e4cda",
   "metadata": {},
   "outputs": [],
   "source": [
    "test = stats('2017020500','NG-GR-NQ-BD','max')"
   ]
  },
  {
   "cell_type": "code",
   "execution_count": null,
   "id": "bf8094af",
   "metadata": {},
   "outputs": [],
   "source": [
    "test.read()\n",
    "datafrm = test.df_getter()\n",
    "print(datafrm)\n",
    "print(test.fn_prev_get())\n",
    "#test.next_prev_calc()"
   ]
  },
  {
   "cell_type": "code",
   "execution_count": null,
   "id": "db469812",
   "metadata": {},
   "outputs": [],
   "source": [
    "lst = ['NG-GR-YQ-BD','NG-SP-NQ-PO','OO-6D','OO-CO','OO-SC','PH-MO-GF-MY','PH-MO-TK-MY',\n",
    "       'PH-TH-GF-MY','PH-TH-TK-MY','VL-100','VL-120','NG-GR-NQ-PO','NG-GR-YQ-PO','NG-SP-YQ-PO','OO-CC']"
   ]
  },
  {
   "cell_type": "code",
   "execution_count": null,
   "id": "6c66f998",
   "metadata": {},
   "outputs": [],
   "source": [
    "#for i in lst:\n",
    "    #temp = stats('2017020500',i,'max')\n",
    "    #temp.read()\n",
    "    #print(temp.next_prev_calc())"
   ]
  },
  {
   "cell_type": "code",
   "execution_count": null,
   "id": "d71220bf",
   "metadata": {},
   "outputs": [],
   "source": [
    "# verifying results using know correct method\n",
    "out_prev = pd.DataFrame()\n",
    "out_next = pd.DataFrame()\n",
    "def diff(num_str, day, table, out):\n",
    "    fn = '/cw3e/mead/projects/cwp103/scratch/ldehaan/Livneh/ptt_2017.nc'\n",
    "    liv_file = xr.open_dataset(fn)\n",
    "    liv = liv_file['Tmax'][day].data.flatten()\n",
    "    table[num_str][table[num_str] == 0.0] = np.NAN\n",
    "    table[num_str] = table[num_str] - 273.15\n",
    "    subtr = np.subtract(np.array(table[num_str]), liv)\n",
    "    out[num_str] = subtr\n",
    "\n",
    "liv_days = [36,37,38,39,40,41,42,43,44,45]\n",
    "for i in np.arange(len(liv_days)):\n",
    "    diff(days_prev[i],liv_days[i],datafrm,out_prev)\n",
    "    diff(days_next[i],liv_days[i],datafrm,out_next)\n",
    "bias_prev = out_prev.values.flatten()[~np.isnan(out_prev.values.flatten())].mean()\n",
    "bias_next = out_next.values.flatten()[~np.isnan(out_next.values.flatten())].mean()\n",
    "sq_all_prev = out_prev**2\n",
    "rmse_prev = np.sqrt(sq_all_prev.values.flatten()[~np.isnan(sq_all_prev.values.flatten())].mean())\n",
    "sq_all_next = out_next**2\n",
    "rmse_next = np.sqrt(sq_all_next.values.flatten()[~np.isnan(sq_all_next.values.flatten())].mean())\n",
    "print('Prev Bias, Prev Rmse')\n",
    "print(round(bias_prev,2), round(rmse_prev,2))\n",
    "print('Next Bias, Next Rmse')\n",
    "print(round(bias_next,2), round(rmse_next,2))"
   ]
  },
  {
   "cell_type": "markdown",
   "id": "0bc1ff4c",
   "metadata": {},
   "source": [
    "notes:\n",
    "8/24/21\n",
    "- know that the files are correct, since they gave us the same stats through previous calc method\n",
    "- need to fix the way the dataframes are being populated"
   ]
  },
  {
   "cell_type": "code",
   "execution_count": null,
   "id": "db8eca16",
   "metadata": {},
   "outputs": [],
   "source": []
  }
 ],
 "metadata": {
  "kernelspec": {
   "display_name": "Python 3",
   "language": "python",
   "name": "python3"
  },
  "language_info": {
   "codemirror_mode": {
    "name": "ipython",
    "version": 3
   },
   "file_extension": ".py",
   "mimetype": "text/x-python",
   "name": "python",
   "nbconvert_exporter": "python",
   "pygments_lexer": "ipython3",
   "version": "3.8.0"
  }
 },
 "nbformat": 4,
 "nbformat_minor": 5
}
