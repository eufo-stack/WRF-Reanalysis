{
 "cells": [
  {
   "cell_type": "markdown",
   "id": "784ff28b",
   "metadata": {},
   "source": [
    "# Wrfcf Average Tmax"
   ]
  },
  {
   "cell_type": "code",
   "execution_count": 1,
   "id": "e465cf9f",
   "metadata": {},
   "outputs": [],
   "source": [
    "# imports\n",
    "import numpy\n",
    "import Nio\n",
    "import Ngl\n",
    "from IPython import display\n",
    "import netCDF4 as nc\n",
    "from datetime import date\n",
    "from datetime import timedelta\n",
    "import xarray as xr\n",
    "import xesmf as xe"
   ]
  },
  {
   "cell_type": "code",
   "execution_count": 2,
   "id": "731c30fe",
   "metadata": {},
   "outputs": [],
   "source": [
    "# reading in wrfcf tmaxes, change to tmins to see tmins\n",
    "wrf_05 = xr.open_dataset('./wrf_05_cpc-Copy1.nc')\n",
    "wrf_06 = xr.open_dataset('./wrf_06_cpc-Copy1.nc')\n",
    "wrf_07 = xr.open_dataset('./wrf_07_cpc-Copy1.nc')\n",
    "wrf_08 = xr.open_dataset('./wrf_08_cpc-Copy1.nc')\n",
    "wrf_09 = xr.open_dataset('./wrf_09_cpc-Copy1.nc')\n",
    "wrf_10 = xr.open_dataset('./wrf_10_cpc-Copy1.nc')\n",
    "wrf_11 = xr.open_dataset('./wrf_11_cpc-Copy1.nc')\n",
    "wrf_12 = xr.open_dataset('./wrf_12_cpc-Copy1.nc')\n",
    "wrf_13 = xr.open_dataset('./wrf_13_cpc-Copy1.nc')\n",
    "wrf_14 = xr.open_dataset('./wrf_14_cpc-Copy1.nc')\n",
    "wrf_15 = xr.open_dataset('./wrf_15_cpc-Copy1.nc')\n",
    "#wrf_16 = xr.open_dataset('./wrf_16.nc')\n",
    "#wrf_17 = xr.open_dataset('./wrf_17.nc')\n",
    "#wrf_17['maxes'] = wrf_17['T_2m']\n",
    "\n",
    "#wrf_lst = [wrf_05, wrf_06, wrf_07, wrf_08, wrf_09, wrf_10, wrf_11, wrf_12, wrf_13, wrf_14, wrf_15, wrf_16, wrf_17]\n",
    "wrf_lst = [wrf_05, wrf_06, wrf_07, wrf_08, wrf_09, wrf_10, wrf_11, wrf_12, wrf_13, wrf_14, wrf_15]"
   ]
  },
  {
   "cell_type": "code",
   "execution_count": 3,
   "id": "1093502b",
   "metadata": {},
   "outputs": [
    {
     "data": {
      "text/plain": [
       "300.6074555188385"
      ]
     },
     "execution_count": 3,
     "metadata": {},
     "output_type": "execute_result"
    }
   ],
   "source": [
    "max(wrf_15['maxes'].data.flatten())"
   ]
  },
  {
   "cell_type": "code",
   "execution_count": 4,
   "id": "cb46a37f",
   "metadata": {},
   "outputs": [
    {
     "data": {
      "text/plain": [
       "array([[0., 0., 0., ..., 0., 0., 0.],\n",
       "       [0., 0., 0., ..., 0., 0., 0.],\n",
       "       [0., 0., 0., ..., 0., 0., 0.],\n",
       "       ...,\n",
       "       [0., 0., 0., ..., 0., 0., 0.],\n",
       "       [0., 0., 0., ..., 0., 0., 0.],\n",
       "       [0., 0., 0., ..., 0., 0., 0.]])"
      ]
     },
     "execution_count": 4,
     "metadata": {},
     "output_type": "execute_result"
    }
   ],
   "source": [
    "# averaging\n",
    "sum_arr = wrf_05['maxes'].data\n",
    "for i in wrf_lst[1:12]:\n",
    "    sum_arr += i['maxes'].data\n",
    "avg = sum_arr / 11 #13\n",
    "avg"
   ]
  },
  {
   "cell_type": "code",
   "execution_count": 5,
   "id": "31f86c19",
   "metadata": {},
   "outputs": [
    {
     "data": {
      "text/plain": [
       "(array([  0.        , 260.82634117, 261.39797193, ..., 300.00575803,\n",
       "        300.12037843, 300.22384672]),\n",
       " array([   0.        , 2869.0897529 , 2875.37769119, ..., 3300.06333829,\n",
       "        3301.32416268, 3302.46231396]),\n",
       " array([   0.        , 2869.0897529 , 2875.37769119, ..., 3300.06333829,\n",
       "        3301.32416268, 3302.46231396]))"
      ]
     },
     "execution_count": 5,
     "metadata": {},
     "output_type": "execute_result"
    }
   ],
   "source": [
    "# for reference\n",
    "numpy.unique(avg), numpy.unique(sum_arr), numpy.unique(wrf_05['maxes'])"
   ]
  },
  {
   "cell_type": "code",
   "execution_count": 6,
   "id": "cbce0df5",
   "metadata": {},
   "outputs": [],
   "source": [
    "# change 0.0 to NaNs\n",
    "avg[avg == 0.0] = 'nan'"
   ]
  },
  {
   "cell_type": "code",
   "execution_count": 20,
   "id": "d1f97b4a",
   "metadata": {},
   "outputs": [
    {
     "data": {
      "text/plain": [
       "2041"
      ]
     },
     "execution_count": 20,
     "metadata": {},
     "output_type": "execute_result"
    }
   ],
   "source": [
    "# janky way to find average using livneh coords, subtracting wrf avg/pt by random \n",
    "# livneh to create nans then adding livneh avg/pt back so we can remove wrf pts not in common\n",
    "fn = '/cw3e/mead/projects/cwp103/scratch/ldehaan/CPC/tmax.2017.nc'\n",
    "liv = xr.open_dataset(fn)\n",
    "livran = liv['tmax'][35]\n",
    "sub = numpy.subtract(avg, livran)\n",
    "new_add = numpy.add(sub, livran)\n",
    "numpy.unique(avg), numpy.unique(sub), numpy.unique(new_add)\n",
    "sum(~numpy.isnan(new_add.data.flatten()))"
   ]
  },
  {
   "cell_type": "code",
   "execution_count": 8,
   "id": "28eba5f6",
   "metadata": {},
   "outputs": [
    {
     "data": {
      "text/plain": [
       "masked_array(\n",
       "  data=[[--, --, --, ..., --, --, --],\n",
       "        [--, --, --, ..., --, --, --],\n",
       "        [--, --, --, ..., --, --, --],\n",
       "        ...,\n",
       "        [--, --, --, ..., --, --, --],\n",
       "        [--, --, --, ..., --, --, --],\n",
       "        [--, --, --, ..., --, --, --]],\n",
       "  mask=[[ True,  True,  True, ...,  True,  True,  True],\n",
       "        [ True,  True,  True, ...,  True,  True,  True],\n",
       "        [ True,  True,  True, ...,  True,  True,  True],\n",
       "        ...,\n",
       "        [ True,  True,  True, ...,  True,  True,  True],\n",
       "        [ True,  True,  True, ...,  True,  True,  True],\n",
       "        [ True,  True,  True, ...,  True,  True,  True]],\n",
       "  fill_value=1e+20)"
      ]
     },
     "execution_count": 8,
     "metadata": {},
     "output_type": "execute_result"
    }
   ],
   "source": [
    "# convert dif_arr to masked array to overlook NaNs\n",
    "import numpy.ma as ma\n",
    "m_out = ma.masked_invalid(new_add)\n",
    "m_out"
   ]
  },
  {
   "cell_type": "code",
   "execution_count": 9,
   "id": "02c985e7",
   "metadata": {},
   "outputs": [
    {
     "data": {
      "text/plain": [
       "-12.323658827608995"
      ]
     },
     "execution_count": 9,
     "metadata": {},
     "output_type": "execute_result"
    }
   ],
   "source": [
    "# convert from K to C\n",
    "m_out = m_out - 273.15\n",
    "min(numpy.unique(m_out))"
   ]
  },
  {
   "cell_type": "code",
   "execution_count": 10,
   "id": "277843bc",
   "metadata": {},
   "outputs": [
    {
     "data": {
      "text/plain": [
       "6.491365927113625"
      ]
     },
     "execution_count": 10,
     "metadata": {},
     "output_type": "execute_result"
    }
   ],
   "source": [
    "# numerical average over entire region\n",
    "numpy.mean(m_out.flatten())"
   ]
  },
  {
   "cell_type": "markdown",
   "id": "b3fd816b",
   "metadata": {},
   "source": [
    "# workstation\n",
    "wks_type = \"png\"\n",
    "wks = Ngl.open_wks(wks_type,\"wrfcf17_avg_tmin_NG-GR-NQ-BD\")"
   ]
  },
  {
   "cell_type": "markdown",
   "id": "39ad449b",
   "metadata": {},
   "source": [
    "# defining variables\n",
    "fn = '/cw3e/mead/projects/cwp103/production/output/2017020500/cf/NG-GR-NQ-BD/wrfcf_d02_2017-02-05_22_00_00.nc'\n",
    "cdf_file1 = Nio.open_file(fn, \"r\")\n",
    "temp = m_out\n",
    "tlo = cdf_file1.variables[\"lon\"][:].flatten()\n",
    "tla = cdf_file1.variables[\"lat\"][:].flatten()\n",
    "tmax_lon  =  wrf_05['lon'].data.flatten()\n",
    "tmax_lat  =  wrf_05['lat'].data.flatten()\n",
    "tmax_nlon =  len(tmax_lon)\n",
    "tmax_nlat =  len(tmax_lat)"
   ]
  },
  {
   "cell_type": "markdown",
   "id": "66d5aeef",
   "metadata": {},
   "source": [
    "# XY of overlay plot\n",
    "resources = Ngl.Resources()\n",
    "\n",
    "# fill missing values as needed\n",
    "if hasattr(temp,\"_FillValue\"):\n",
    "    resources.sfMissingValueV = temp[0]._FillValue\n",
    "\n",
    "resources.sfXCStartV = min(tmax_lon)\n",
    "resources.sfXCEndV   = max(tmax_lon)\n",
    "resources.sfYCStartV = min(tmax_lat)\n",
    "resources.sfYCEndV   = max(tmax_lat)\n",
    "\n",
    "# cmap\n",
    "resources.cnLevelSelectionMode = \"ManualLevels\"\n",
    "resources.cnMinLevelValF       = -20\n",
    "resources.cnMaxLevelValF       = 32\n",
    "resources.cnLevelSpacingF      = 4\n",
    "\n",
    "# plot styling\n",
    "resources.mpFillOn              = True\n",
    "resources.mpFillAreaSpecifiers  = [\"Water\",\"Land\",\"USStatesWater\"]\n",
    "resources.mpSpecifiedFillColors = [0,0,0]\n",
    "resources.mpAreaMaskingOn       = True            \n",
    "resources.mpMaskAreaSpecifiers  = \"USStatesLand\"\n",
    "resources.cnFillDrawOrder       = \"Predraw\" \n",
    "Ngl.set_values(wks,resources)\n",
    "resources.tiXAxisString = \"~F25~Longitude\"\n",
    "resources.tiYAxisString = \"~F25~Latitude\"\n",
    "resources.cnFillOn              = True    \n",
    "resources.cnLineLabelsOn        = False  \n",
    "resources.cnInfoLabelOn         = False  \n",
    "resources.nglSpreadColorEnd     = -2\n",
    "resources.mpProjection = \"LambertEqualArea\" \n",
    "resources.mpCenterLonF = (tmax_lon[tmax_nlon-1] + tmax_lon[0])/2\n",
    "resources.mpCenterLatF = (tmax_lat[tmax_nlat-1] + tmax_lat[0])/2\n",
    "resources.mpLimitMode = \"LatLon\"\n",
    "resources.mpMinLonF   = min(tlo)\n",
    "resources.mpMaxLonF   = max(tlo)\n",
    "resources.mpMinLatF   = min(tla)\n",
    "resources.mpMaxLatF   = max(tla)\n",
    "resources.mpPerimOn   = True\n",
    "resources.cnLinesOn   = False\n",
    "resources.mpOutlineBoundarySets = \"GeophysicalAndUSStates\"\n",
    "resources.pmTickMarkDisplayMode = \"Never\"\n",
    "resources.tiMainString = \"~F26~Wrfcf Average Tmin, 2017-02-05 to 2017-02-17, NG-GR-NQ-BD\"\n",
    "resources.lbOrientation  = \"Horizontal\"\n",
    "resources.lbTitleString  = \"~F25~Temp (C)\"   "
   ]
  },
  {
   "cell_type": "markdown",
   "id": "d9c04d92",
   "metadata": {},
   "source": [
    "# plot\n",
    "map = Ngl.contour_map(wks,temp,resources)"
   ]
  },
  {
   "cell_type": "markdown",
   "id": "150fe6de",
   "metadata": {},
   "source": [
    "# clean up\n",
    "del map\n",
    "del resources\n",
    "Ngl.end()"
   ]
  },
  {
   "cell_type": "markdown",
   "id": "6e43ce0d",
   "metadata": {},
   "source": [
    "# display plot (needs further cleaning later)\n",
    "display.Image(\"./wrfcf17_avg_tmin_NG-GR-NQ-BD.png\")"
   ]
  },
  {
   "cell_type": "markdown",
   "id": "3bc3dbde",
   "metadata": {},
   "source": [
    "fin."
   ]
  }
 ],
 "metadata": {
  "kernelspec": {
   "display_name": "Python 3",
   "language": "python",
   "name": "python3"
  },
  "language_info": {
   "codemirror_mode": {
    "name": "ipython",
    "version": 3
   },
   "file_extension": ".py",
   "mimetype": "text/x-python",
   "name": "python",
   "nbconvert_exporter": "python",
   "pygments_lexer": "ipython3",
   "version": "3.8.0"
  }
 },
 "nbformat": 4,
 "nbformat_minor": 5
}
