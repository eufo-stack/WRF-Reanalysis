{
 "cells": [
  {
   "cell_type": "code",
   "execution_count": 1,
   "id": "3ff02bce",
   "metadata": {},
   "outputs": [],
   "source": [
    "# imports\n",
    "import numpy as np\n",
    "import pandas as pd\n",
    "import xarray as xr\n",
    "pd.set_option('max_columns', None)"
   ]
  },
  {
   "cell_type": "code",
   "execution_count": 2,
   "id": "92b8e139",
   "metadata": {},
   "outputs": [],
   "source": [
    "# reading in bias files\n",
    "bias_next = xr.open_dataset('./bias_17_noshft.nc')\n",
    "bias_prev = xr.open_dataset('./bias_17_prev.nc')"
   ]
  },
  {
   "cell_type": "code",
   "execution_count": 3,
   "id": "e62f3b14",
   "metadata": {},
   "outputs": [],
   "source": [
    "# reading in wrf files\n",
    "next_06 = xr.open_dataarray('./wrf_06-Copy1.nc')\n",
    "next_07 = xr.open_dataarray('./wrf_07-Copy1.nc')\n",
    "next_08 = xr.open_dataarray('./wrf_08-Copy1.nc')\n",
    "next_09 = xr.open_dataarray('./wrf_09-Copy1.nc')\n",
    "next_10 = xr.open_dataarray('./wrf_10-Copy1.nc')\n",
    "next_11 = xr.open_dataarray('./wrf_11-Copy1.nc')\n",
    "next_12 = xr.open_dataarray('./wrf_12-Copy1.nc')\n",
    "next_13 = xr.open_dataarray('./wrf_13-Copy1.nc')\n",
    "next_14 = xr.open_dataarray('./wrf_14-Copy1.nc')\n",
    "next_15 = xr.open_dataarray('./wrf_15-Copy1.nc')\n",
    "\n",
    "prev_06 = xr.open_dataarray('./wrf_06_prev.nc')\n",
    "prev_07 = xr.open_dataarray('./wrf_07_prev.nc')\n",
    "prev_08 = xr.open_dataarray('./wrf_08_prev.nc')\n",
    "prev_09 = xr.open_dataarray('./wrf_09_prev.nc')\n",
    "prev_10 = xr.open_dataarray('./wrf_10_prev.nc')\n",
    "prev_11 = xr.open_dataarray('./wrf_11_prev.nc')\n",
    "prev_12 = xr.open_dataarray('./wrf_12_prev.nc')\n",
    "prev_13 = xr.open_dataarray('./wrf_13_prev.nc')\n",
    "prev_14 = xr.open_dataarray('./wrf_14_prev.nc')\n",
    "prev_15 = xr.open_dataarray('./wrf_15_prev.nc')"
   ]
  },
  {
   "cell_type": "code",
   "execution_count": 4,
   "id": "3c524bc9",
   "metadata": {},
   "outputs": [
    {
     "data": {
      "text/plain": [
       "array([[ 59342],\n",
       "       [ 59343],\n",
       "       [ 59344],\n",
       "       ...,\n",
       "       [401173],\n",
       "       [401174],\n",
       "       [401175]])"
      ]
     },
     "execution_count": 4,
     "metadata": {},
     "output_type": "execute_result"
    }
   ],
   "source": [
    "np.argwhere(np.isnan(bias_next['__xarray_dataarray_variable__'].data.flatten()) == False)"
   ]
  },
  {
   "cell_type": "code",
   "execution_count": 5,
   "id": "162aa52e",
   "metadata": {},
   "outputs": [
    {
     "name": "stdout",
     "output_type": "stream",
     "text": [
      "   Bias Next  Bias Previous          n6          n7          n8          n9  \\\n",
      "0  -2.702342      -1.501870  301.909158  301.057393  301.057393  301.258486   \n",
      "1  -3.249267      -2.003169  300.705650  299.968256  299.968256  299.952189   \n",
      "2  -3.567176      -2.372228  301.124000  300.400359  300.400359  300.275394   \n",
      "3   1.450383       0.126748  252.704340  253.782462  253.782462  265.488262   \n",
      "4  -0.755683      -2.176979  252.684661  256.360569  256.360569  266.479859   \n",
      "\n",
      "          n10         n11         n12         n13         n14         n15  \\\n",
      "0  304.816540  307.250491  300.334353  289.741569  291.140739  289.064125   \n",
      "1  303.499653  306.136048  298.923688  288.884226  290.025943  287.857630   \n",
      "2  303.690768  306.424360  299.163308  289.498909  290.744207  288.340088   \n",
      "3  266.588575  265.283585  266.327447  270.700598  273.491828  271.643124   \n",
      "4  267.014902  265.325553  267.579238  271.864037  275.183624  272.499354   \n",
      "\n",
      "           p6          p7          p8          p9         p10         p11  \\\n",
      "0  301.068846  301.909158  301.909158  301.021563  301.258486  304.816540   \n",
      "1  300.318611  300.705650  300.705650  300.059825  299.952189  303.499653   \n",
      "2  300.289567  301.124000  301.124000  300.950546  300.275394  303.690768   \n",
      "3  258.406772  252.704340  252.704340  257.362419  265.488262  266.588575   \n",
      "4  258.286399  252.684661  252.684661  259.160660  266.479859  267.014902   \n",
      "\n",
      "          p12         p13         p14         p15  \n",
      "0  307.250491  300.334353  289.741569  291.140739  \n",
      "1  306.136048  298.923688  288.884226  290.025943  \n",
      "2  306.424360  299.163308  289.498909  290.744207  \n",
      "3  265.283585  266.327447  270.700598  273.491828  \n",
      "4  265.325553  267.579238  271.864037  275.183624  \n"
     ]
    }
   ],
   "source": [
    "points = [59342,59343,59344,401173,401175]\n",
    "b_next = []\n",
    "b_prev = []\n",
    "d6 = []\n",
    "d7 = []\n",
    "d8 = []\n",
    "d9 = []\n",
    "d10 = []\n",
    "d11 = []\n",
    "d12 = []\n",
    "d13 = []\n",
    "d14 = []\n",
    "d15 = []\n",
    "p6 = []\n",
    "p7 = []\n",
    "p8 = []\n",
    "p9 = []\n",
    "p10 = []\n",
    "p11 = []\n",
    "p12 = []\n",
    "p13 = []\n",
    "p14 = []\n",
    "p15 = []\n",
    "for i in points:\n",
    "    b_next.append(bias_next['__xarray_dataarray_variable__'].data.flatten()[i])\n",
    "    b_prev.append(bias_prev['__xarray_dataarray_variable__'].data.flatten()[i])\n",
    "    d6.append(next_06.data.flatten()[i])\n",
    "    d7.append(next_07.data.flatten()[i])\n",
    "    d8.append(next_08.data.flatten()[i])\n",
    "    d9.append(next_09.data.flatten()[i])\n",
    "    d10.append(next_10.data.flatten()[i])\n",
    "    d11.append(next_11.data.flatten()[i])\n",
    "    d12.append(next_12.data.flatten()[i])\n",
    "    d13.append(next_13.data.flatten()[i])\n",
    "    d14.append(next_14.data.flatten()[i])\n",
    "    d15.append(next_15.data.flatten()[i])\n",
    "    p6.append(prev_06.data.flatten()[i])\n",
    "    p7.append(prev_07.data.flatten()[i])\n",
    "    p8.append(prev_08.data.flatten()[i])\n",
    "    p9.append(prev_09.data.flatten()[i])\n",
    "    p10.append(prev_10.data.flatten()[i])\n",
    "    p11.append(prev_11.data.flatten()[i])\n",
    "    p12.append(prev_12.data.flatten()[i])\n",
    "    p13.append(prev_13.data.flatten()[i])\n",
    "    p14.append(prev_14.data.flatten()[i])\n",
    "    p15.append(prev_15.data.flatten()[i])\n",
    "\n",
    "bn_data = {'Bias Next': b_next, 'Bias Previous': b_prev,\n",
    "          'n6': d6, 'n7': d7, 'n8': d7, 'n9': d9, 'n10': d10, 'n11': d11, 'n12': d12, 'n13': d13, 'n14': d14, 'n15': d15,\n",
    "          'p6': p6, 'p7': p7, 'p8': p7, 'p9': p9, 'p10': p10, 'p11': p11, 'p12': p12, 'p13': p13, 'p14': p14, 'p15': p15}\n",
    "       \n",
    "bn = pd.DataFrame(bn_data)\n",
    "print(bn)"
   ]
  },
  {
   "cell_type": "code",
   "execution_count": 6,
   "id": "7ecff651",
   "metadata": {},
   "outputs": [
    {
     "name": "stdout",
     "output_type": "stream",
     "text": [
      "            6           7           8           9          10          11  \\\n",
      "0  301.068846  301.909158  301.909158  301.021563  301.258486  304.816540   \n",
      "1  300.318611  300.705650  300.705650  300.059825  299.952189  303.499653   \n",
      "2  300.289567  301.124000  301.124000  300.950546  300.275394  303.690768   \n",
      "3  258.406772  252.704340  252.704340  257.362419  265.488262  266.588575   \n",
      "4  252.684661  256.360569  256.360569  266.479859  267.014902  265.325553   \n",
      "\n",
      "           12          13          14          15  \n",
      "0  307.250491  300.334353  289.741569  291.140739  \n",
      "1  306.136048  298.923688  288.884226  290.025943  \n",
      "2  306.424360  299.163308  289.498909  290.744207  \n",
      "3  265.283585  266.327447  270.700598  273.491828  \n",
      "4  267.579238  271.864037  275.183624  272.499354  \n"
     ]
    }
   ],
   "source": [
    "out_bias = pd.DataFrame()\n",
    "\n",
    "def smallest_magnitude(next_dif, prev_dif, w_next, w_prev):\n",
    "    if abs(prev_dif) < abs(next_dif):\n",
    "        return w_prev\n",
    "    else:\n",
    "        return w_next\n",
    "    \n",
    "def output_bias(num_str):\n",
    "    result = []\n",
    "    for x in np.arange(5):\n",
    "        temp = smallest_magnitude(bn_data['Bias Next'][x], bn_data['Bias Previous'][x], bn_data['n'+num_str][x], bn_data['p'+num_str][x])\n",
    "        result.append(temp)\n",
    "    out_bias[num_str] = result\n",
    "\n",
    "days = ['6','7','8','9','10','11','12','13','14','15']\n",
    "for i in np.arange(10):\n",
    "    output_bias(days[i])\n",
    "print(out_bias)"
   ]
  },
  {
   "cell_type": "code",
   "execution_count": 7,
   "id": "42fd0e7b",
   "metadata": {},
   "outputs": [
    {
     "name": "stdout",
     "output_type": "stream",
     "text": [
      "          6         7         8         9        10        11        12  \\\n",
      "0 -0.206938 -1.516626 -0.136627 -2.254221 -2.117298 -0.119244 -1.235294   \n",
      "1 -0.161967 -2.094928 -0.784928 -2.610754 -2.818388 -0.690924 -1.694528   \n",
      "2 -0.751804 -2.447370 -1.227370 -2.540823 -3.275975 -1.140602 -2.157009   \n",
      "3  1.633891 -2.878541 -2.368540 -0.020462 -0.054619 -0.814306 -2.609296   \n",
      "4 -7.445268 -2.709361 -2.079361  5.859930 -1.705027 -5.374376 -3.670691   \n",
      "\n",
      "         13        14        15  \n",
      "0 -0.611431 -4.924214 -1.045044  \n",
      "1 -1.366889 -5.186352 -1.884635  \n",
      "2 -1.798063 -5.312460 -2.347163  \n",
      "3 -1.465434  4.497717  4.268947  \n",
      "4  0.824108  6.073695 -0.130575  \n"
     ]
    }
   ],
   "source": [
    "def diff(num_str, day, table, out):\n",
    "    fn = '/cw3e/mead/projects/cwp103/scratch/ldehaan/Livneh/ptt_2017.nc'\n",
    "    liv_file = xr.open_dataset(fn)\n",
    "    livf = liv_file['Tmax'][day]\n",
    "    liv = [livf.data.flatten()[59342],\n",
    "          livf.data.flatten()[59343],\n",
    "          livf.data.flatten()[59344],\n",
    "          livf.data.flatten()[401173],\n",
    "          livf.data.flatten()[401175]]\n",
    "    table[num_str] = table[num_str] - 273.15\n",
    "    subtr = np.subtract(np.array(table[num_str]), liv)\n",
    "    out[num_str] = subtr\n",
    "\n",
    "liv_days = [36,37,38,39,40,41,42,43,44,45]\n",
    "for i in np.arange(10):\n",
    "    diff(days[i], liv_days[i], out_bias, out_bias)\n",
    "print(out_bias)"
   ]
  },
  {
   "cell_type": "code",
   "execution_count": 8,
   "id": "51aaa4c2",
   "metadata": {},
   "outputs": [],
   "source": [
    "results = pd.DataFrame()\n",
    "\n",
    "# average bias\n",
    "sumz = 0\n",
    "for i in days:\n",
    "    sumz += sum(out_bias[i])\n",
    "avg_bias_best = sumz/(10*5)\n",
    "results['Best Bias: Bias'] = [avg_bias_best]\n",
    "\n",
    "# rmse\n",
    "def overall_rmse(dif_arr):\n",
    "    sq_arr = []\n",
    "    for i in dif_arr:\n",
    "        sq_dif = np.square(i.data)\n",
    "        sq_arr.append(sq_dif)\n",
    "    arr_sq = [x for x in np.array(sq_arr).flatten() if str(x) != 'nan']\n",
    "    div = sum(arr_sq) / (50)\n",
    "    return np.sqrt(div)\n",
    "dif_best = np.array([out_bias['6'], out_bias['7'], out_bias['8'],\n",
    "         out_bias['9'], out_bias['10'],\n",
    "         out_bias['11'], out_bias['12'],\n",
    "         out_bias['13'], out_bias['14'],\n",
    "         out_bias['15']]).flatten()\n",
    "res = overall_rmse(dif_best)\n",
    "results['Best Bias: RMSE'] = [res]"
   ]
  },
  {
   "cell_type": "code",
   "execution_count": 9,
   "id": "a736af1c",
   "metadata": {},
   "outputs": [],
   "source": [
    "# prev\n",
    "prev_out = pd.DataFrame()\n",
    "\n",
    "prev_d = ['p6','p7','p8','p9','p10','p11','p12','p13','p14','p15']\n",
    "for i in np.arange(10):\n",
    "    diff(prev_d[i], liv_days[i], bn, prev_out)\n",
    "\n",
    "summ = 0\n",
    "for k in days:\n",
    "    summ += sum(prev_out['p'+k])\n",
    "avg_bias_prev = summ/(10*5)\n",
    "results['Prev: Bias'] = [avg_bias_prev]\n",
    "\n",
    "dif_prev = np.array([prev_out['p6'], prev_out['p7'], prev_out['p8'], prev_out['p9'],\n",
    "                    prev_out['p10'], prev_out['p11'], prev_out['p12'], prev_out['p13'],\n",
    "                    prev_out['p14'], prev_out['p15']])\n",
    "res2 = overall_rmse(dif_prev)\n",
    "results['Prev: RMSE'] = [res2]"
   ]
  },
  {
   "cell_type": "code",
   "execution_count": 10,
   "id": "f227d709",
   "metadata": {},
   "outputs": [
    {
     "data": {
      "text/plain": [
       "2.86960804910903"
      ]
     },
     "execution_count": 10,
     "metadata": {},
     "output_type": "execute_result"
    }
   ],
   "source": [
    "def rmse(diff):\n",
    "    return np.sqrt(((diff) ** 2).mean())\n",
    "rmse(np.array(out_bias).flatten())"
   ]
  },
  {
   "cell_type": "code",
   "execution_count": 11,
   "id": "8884c578",
   "metadata": {},
   "outputs": [
    {
     "name": "stdout",
     "output_type": "stream",
     "text": [
      "   Best Bias: Bias  Best Bias: RMSE  Prev: Bias  Prev: RMSE  Next: Bias  \\\n",
      "0        -1.332549         2.869608   -1.634324    2.780819   -1.904537   \n",
      "\n",
      "   Next: RMSE  \n",
      "0    4.753636  \n"
     ]
    }
   ],
   "source": [
    "# next\n",
    "next_out = pd.DataFrame()\n",
    "\n",
    "next_d = ['n6','n7','n8','n9','n10','n11','n12','n13','n14','n15']\n",
    "for i in np.arange(10):\n",
    "    diff(next_d[i], liv_days[i], bn, next_out)\n",
    "\n",
    "summn = 0\n",
    "for k in days:\n",
    "    summn += sum(next_out['n'+k])\n",
    "avg_bias_next = summn/(10*5)\n",
    "results['Next: Bias'] = [avg_bias_next]\n",
    "\n",
    "dif_next = np.array([next_out['n6'], next_out['n7'], next_out['n8'], next_out['n9'],\n",
    "                    next_out['n10'], next_out['n11'], next_out['n12'], next_out['n13'],\n",
    "                    next_out['n14'], next_out['n15']])\n",
    "res3 = overall_rmse(dif_next)\n",
    "results['Next: RMSE'] = [res3]\n",
    "print(results)"
   ]
  },
  {
   "cell_type": "code",
   "execution_count": 12,
   "id": "5ff586dd",
   "metadata": {},
   "outputs": [],
   "source": [
    "results.to_csv('tester_results.csv')"
   ]
  }
 ],
 "metadata": {
  "kernelspec": {
   "display_name": "Python 3",
   "language": "python",
   "name": "python3"
  },
  "language_info": {
   "codemirror_mode": {
    "name": "ipython",
    "version": 3
   },
   "file_extension": ".py",
   "mimetype": "text/x-python",
   "name": "python",
   "nbconvert_exporter": "python",
   "pygments_lexer": "ipython3",
   "version": "3.8.0"
  }
 },
 "nbformat": 4,
 "nbformat_minor": 5
}
