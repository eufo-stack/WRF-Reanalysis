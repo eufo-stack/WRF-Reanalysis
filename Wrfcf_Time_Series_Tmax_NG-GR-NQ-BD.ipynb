{
 "cells": [
  {
   "cell_type": "markdown",
   "id": "0bc4c1ec",
   "metadata": {},
   "source": [
    "# Wrfcf 2017-02-05 to 2017-02-17 Multi Point Time Series"
   ]
  },
  {
   "cell_type": "code",
   "execution_count": 1,
   "id": "be65b503",
   "metadata": {},
   "outputs": [],
   "source": [
    "# imports\n",
    "import numpy\n",
    "import Nio\n",
    "import Ngl\n",
    "from IPython import display\n",
    "import netCDF4 as nc\n",
    "from datetime import date\n",
    "from datetime import timedelta\n",
    "import xarray as xr\n",
    "import xesmf as xe\n",
    "import matplotlib.pyplot as plt"
   ]
  },
  {
   "cell_type": "code",
   "execution_count": 2,
   "id": "05fe44a5",
   "metadata": {},
   "outputs": [],
   "source": [
    "# reading in wrfcf tmaxes\n",
    "wrf_06 = xr.open_dataset('./wrf_06_prev.nc')\n",
    "wrf_07 = xr.open_dataset('./wrf_07_prev.nc')\n",
    "wrf_08 = xr.open_dataset('./wrf_08_prev.nc')\n",
    "wrf_09 = xr.open_dataset('./wrf_09_prev.nc')\n",
    "wrf_10 = xr.open_dataset('./wrf_10_prev.nc')\n",
    "wrf_11 = xr.open_dataset('./wrf_11_prev.nc')\n",
    "wrf_12 = xr.open_dataset('./wrf_12_prev.nc')\n",
    "wrf_13 = xr.open_dataset('./wrf_13_prev.nc')\n",
    "wrf_14 = xr.open_dataset('./wrf_14_prev.nc')\n",
    "wrf_15 = xr.open_dataset('./wrf_15_prev.nc')\n",
    "wrf_16 = xr.open_dataset('./wrf_16_prev.nc')\n",
    "\n",
    "wrf_lst = [wrf_06, wrf_07, wrf_08, wrf_09, wrf_10, wrf_11, wrf_12, wrf_13, wrf_14, wrf_15, wrf_16]"
   ]
  },
  {
   "cell_type": "code",
   "execution_count": 3,
   "id": "5656039d",
   "metadata": {},
   "outputs": [],
   "source": [
    "# Tmax values at California Point\n",
    "def cal_tmaxes():\n",
    "    result_arr = []\n",
    "    for i in wrf_lst:\n",
    "        lat_index = numpy.where(numpy.logical_and(i['lat'].data.flatten() >= 35, \n",
    "                                                 i['lat'].data.flatten() <= 36))[0][0]\n",
    "        lon_index = numpy.where(numpy.logical_and(i['lon'].data.flatten() >= -120, \n",
    "                                                 i['lon'].data.flatten() <= -119))[0][0]\n",
    "        val = i['maxes'].isel(lat=lat_index, lon=lon_index) - 273.15 # convert from K to C\n",
    "        result_arr.append(val.data.item(0))\n",
    "    return result_arr\n",
    "cal_arr = cal_tmaxes()"
   ]
  },
  {
   "cell_type": "code",
   "execution_count": 4,
   "id": "5e870812",
   "metadata": {},
   "outputs": [],
   "source": [
    "# Tmax values at New Mexico Point\n",
    "def nm_tmaxes():\n",
    "    result_arr = []\n",
    "    for i in wrf_lst:\n",
    "        lat_index = numpy.where(numpy.logical_and(i['lat'].data.flatten() >= 34, \n",
    "                                                 i['lat'].data.flatten() <= 35))[0][0]\n",
    "        lon_index = numpy.where(numpy.logical_and(i['lon'].data.flatten() >= -105, \n",
    "                                                 i['lon'].data.flatten() <= -104))[0][0]\n",
    "        val = i['maxes'].isel(lat=lat_index, lon=lon_index) - 273.15 # convert from K to C\n",
    "        result_arr.append(val.data.item(0))\n",
    "    return result_arr\n",
    "nm_arr = nm_tmaxes()"
   ]
  },
  {
   "cell_type": "code",
   "execution_count": 5,
   "id": "48ff4656",
   "metadata": {},
   "outputs": [],
   "source": [
    "# Tmax values at North Dakota Point\n",
    "def nd_tmaxes():\n",
    "    result_arr = []\n",
    "    for i in wrf_lst:\n",
    "        lat_index = numpy.where(numpy.logical_and(i['lat'].data.flatten() >= 46, \n",
    "                                                 i['lat'].data.flatten() <= 47))[0][0]\n",
    "        lon_index = numpy.where(numpy.logical_and(i['lon'].data.flatten() >= -100, \n",
    "                                                 i['lon'].data.flatten() <= -99))[0][0]\n",
    "        val = i['maxes'].isel(lat=lat_index, lon=lon_index) - 273.15 # convert from K to C\n",
    "        result_arr.append(val.data.item(0))\n",
    "    return result_arr\n",
    "nd_arr = nd_tmaxes()"
   ]
  },
  {
   "cell_type": "code",
   "execution_count": 6,
   "id": "b631702b",
   "metadata": {},
   "outputs": [],
   "source": [
    "# Tmax values at West 2 Point\n",
    "def w2_tmaxes():\n",
    "    result_arr = []\n",
    "    for i in wrf_lst:\n",
    "        lat_index = numpy.where(numpy.logical_and(i['lat'].data.flatten() >= 34, \n",
    "                                                 i['lat'].data.flatten() <= 35))[0][0]\n",
    "        lon_index = numpy.where(numpy.logical_and(i['lon'].data.flatten() >= -108, \n",
    "                                                 i['lon'].data.flatten() <= -107))[0][0]\n",
    "        val = i['maxes'].isel(lat=lat_index, lon=lon_index) - 273.15 # convert from K to C\n",
    "        result_arr.append(val.data.item(0))\n",
    "    return result_arr\n",
    "w2_arr = w2_tmaxes()"
   ]
  },
  {
   "cell_type": "code",
   "execution_count": 7,
   "id": "015ea5a8",
   "metadata": {},
   "outputs": [],
   "source": [
    "# West 3 Point\n",
    "def w3_tmaxes():\n",
    "    result_arr = []\n",
    "    for i in wrf_lst:\n",
    "        lat_index = numpy.where(numpy.logical_and(i['lat'].data.flatten() >= 35, \n",
    "                                                 i['lat'].data.flatten() <= 36))[0][0]\n",
    "        lon_index = numpy.where(numpy.logical_and(i['lon'].data.flatten() >= -112, \n",
    "                                                 i['lon'].data.flatten() <= -111))[0][0]\n",
    "        val = i['maxes'].isel(lat=lat_index, lon=lon_index) - 273.15 # convert from K to C\n",
    "        result_arr.append(val.data.item(0))\n",
    "    return result_arr\n",
    "w3_arr = w3_tmaxes()"
   ]
  },
  {
   "cell_type": "code",
   "execution_count": 8,
   "id": "0d7b1772",
   "metadata": {},
   "outputs": [],
   "source": [
    "# West 4 Point\n",
    "def w4_tmaxes():\n",
    "    result_arr = []\n",
    "    for i in wrf_lst:\n",
    "        lat_index = numpy.where(numpy.logical_and(i['lat'].data.flatten() >= 35, \n",
    "                                                 i['lat'].data.flatten() <= 36))[0][0]\n",
    "        lon_index = numpy.where(numpy.logical_and(i['lon'].data.flatten() >= -115, \n",
    "                                                 i['lon'].data.flatten() <= -114))[0][0]\n",
    "        val = i['maxes'].isel(lat=lat_index, lon=lon_index) - 273.15 # convert from K to C\n",
    "        result_arr.append(val.data.item(0))\n",
    "    return result_arr\n",
    "w4_arr = w4_tmaxes()"
   ]
  },
  {
   "cell_type": "code",
   "execution_count": 9,
   "id": "a6a4c226",
   "metadata": {},
   "outputs": [],
   "source": [
    "# West 5 Point\n",
    "def w5_tmaxes():\n",
    "    result_arr = []\n",
    "    for i in wrf_lst:\n",
    "        lat_index = numpy.where(numpy.logical_and(i['lat'].data.flatten() >= 35, \n",
    "                                                 i['lat'].data.flatten() <= 36))[0][0]\n",
    "        lon_index = numpy.where(numpy.logical_and(i['lon'].data.flatten() >= -118, \n",
    "                                                 i['lon'].data.flatten() <= -117))[0][0]\n",
    "        val = i['maxes'].isel(lat=lat_index, lon=lon_index) - 273.15 # convert from K to C\n",
    "        result_arr.append(val.data.item(0))\n",
    "    return result_arr\n",
    "w5_arr = w5_tmaxes()"
   ]
  },
  {
   "cell_type": "code",
   "execution_count": 10,
   "id": "20ae1496",
   "metadata": {},
   "outputs": [],
   "source": [
    "# North Point 2\n",
    "def n2_tmaxes():\n",
    "    result_arr = []\n",
    "    for i in wrf_lst:\n",
    "        lat_index = numpy.where(numpy.logical_and(i['lat'].data.flatten() >= 36, \n",
    "                                                 i['lat'].data.flatten() <= 37))[0][0]\n",
    "        lon_index = numpy.where(numpy.logical_and(i['lon'].data.flatten() >= -106, \n",
    "                                                 i['lon'].data.flatten() <= -105))[0][0]\n",
    "        val = i['maxes'].isel(lat=lat_index, lon=lon_index) - 273.15 # convert from K to C\n",
    "        result_arr.append(val.data.item(0))\n",
    "    return result_arr\n",
    "n2_arr = n2_tmaxes()"
   ]
  },
  {
   "cell_type": "code",
   "execution_count": 11,
   "id": "5e676444",
   "metadata": {},
   "outputs": [],
   "source": [
    "# North Point 3\n",
    "def n3_tmaxes():\n",
    "    result_arr = []\n",
    "    for i in wrf_lst:\n",
    "        lat_index = numpy.where(numpy.logical_and(i['lat'].data.flatten() >= 39, \n",
    "                                                 i['lat'].data.flatten() <= 40))[0][0]\n",
    "        lon_index = numpy.where(numpy.logical_and(i['lon'].data.flatten() >= -106, \n",
    "                                                 i['lon'].data.flatten() <= -105))[0][0]\n",
    "        val = i['maxes'].isel(lat=lat_index, lon=lon_index) - 273.15 # convert from K to C\n",
    "        result_arr.append(val.data.item(0))\n",
    "    return result_arr\n",
    "n3_arr = n3_tmaxes()"
   ]
  },
  {
   "cell_type": "code",
   "execution_count": 12,
   "id": "e6fc36ab",
   "metadata": {},
   "outputs": [],
   "source": [
    "# North Point 4\n",
    "def n4_tmaxes():\n",
    "    result_arr = []\n",
    "    for i in wrf_lst:\n",
    "        lat_index = numpy.where(numpy.logical_and(i['lat'].data.flatten() >= 41, \n",
    "                                                 i['lat'].data.flatten() <= 42))[0][0]\n",
    "        lon_index = numpy.where(numpy.logical_and(i['lon'].data.flatten() >= -106, \n",
    "                                                 i['lon'].data.flatten() <= -105))[0][0]\n",
    "        val = i['maxes'].isel(lat=lat_index, lon=lon_index) - 273.15 # convert from K to C\n",
    "        result_arr.append(val.data.item(0))\n",
    "    return result_arr\n",
    "n4_arr = n4_tmaxes()"
   ]
  },
  {
   "cell_type": "code",
   "execution_count": 13,
   "id": "785ef1c9",
   "metadata": {},
   "outputs": [],
   "source": [
    "# North Point 5\n",
    "def n5_tmaxes():\n",
    "    result_arr = []\n",
    "    for i in wrf_lst:\n",
    "        lat_index = numpy.where(numpy.logical_and(i['lat'].data.flatten() >= 44, \n",
    "                                                 i['lat'].data.flatten() <= 45))[0][0]\n",
    "        lon_index = numpy.where(numpy.logical_and(i['lon'].data.flatten() >= -106, \n",
    "                                                 i['lon'].data.flatten() <= -105))[0][0]\n",
    "        val = i['maxes'].isel(lat=lat_index, lon=lon_index) - 273.15 # convert from K to C\n",
    "        result_arr.append(val.data.item(0))\n",
    "    return result_arr\n",
    "n5_arr = n5_tmaxes()"
   ]
  },
  {
   "cell_type": "code",
   "execution_count": 14,
   "id": "30afeb3e",
   "metadata": {},
   "outputs": [],
   "source": [
    "# North Point 6\n",
    "def n6_tmaxes():\n",
    "    result_arr = []\n",
    "    for i in wrf_lst:\n",
    "        lat_index = numpy.where(numpy.logical_and(i['lat'].data.flatten() >= 47, \n",
    "                                                 i['lat'].data.flatten() <= 48))[0][0]\n",
    "        lon_index = numpy.where(numpy.logical_and(i['lon'].data.flatten() >= -106, \n",
    "                                                 i['lon'].data.flatten() <= -105))[0][0]\n",
    "        val = i['maxes'].isel(lat=lat_index, lon=lon_index) - 273.15 # convert from K to C\n",
    "        result_arr.append(val.data.item(0))\n",
    "    return result_arr\n",
    "n6_arr = n6_tmaxes()"
   ]
  },
  {
   "cell_type": "code",
   "execution_count": 15,
   "id": "9b8142e6",
   "metadata": {},
   "outputs": [
    {
     "data": {
      "image/png": "[encoded data removed]",
      "text/plain": [
       "<Figure size 432x288 with 1 Axes>"
      ]
     },
     "metadata": {
      "needs_background": "light"
     },
     "output_type": "display_data"
    }
   ],
   "source": [
    "# time series plot\n",
    "y1 = cal_arr\n",
    "y2 = nm_arr\n",
    "y3 = nd_arr\n",
    "y4 = w2_arr\n",
    "y5 = w3_arr\n",
    "y6 = w4_arr\n",
    "yk = w5_arr\n",
    "y7 = n2_arr\n",
    "y8 = n3_arr\n",
    "y9 = n4_arr\n",
    "y10 = n5_arr\n",
    "y11 = n6_arr\n",
    "x = numpy.array(['2017-02-06',\n",
    "                '2017-02-07',\n",
    "                '2017-02-08',\n",
    "                '2017-02-09',\n",
    "                '2017-02-10',\n",
    "                '2017-02-11',\n",
    "                '2017-02-12',\n",
    "                '2017-02-13',\n",
    "                '2017-02-14',\n",
    "                '2017-02-15',\n",
    "                '2017-02-16'])\n",
    "#plt.plot(x, y1) # cal blue\n",
    "plt.plot(x, y2) # nm orange\n",
    "plt.plot(x, y3) # nd green\n",
    "#plt.plot(x, y4, color='red') # w2 red\n",
    "#plt.plot(x, y5, color='purple') # w3 purple\n",
    "#plt.plot(x, y6, color='brown') # w4 brown\n",
    "#plt.plot(x, yk) # w5 lilac\n",
    "plt.plot(x, y7) # n2 grey\n",
    "plt.plot(x, y8) # n3 gold\n",
    "plt.plot(x, y9) # n4 cyan\n",
    "plt.plot(x, y10, color='black') # n5 black\n",
    "plt.plot(x, y11, color='yellow') # n6 yellow\n",
    "\n",
    "# plot styling\n",
    "plt.title(\"Wrfcf North Tmax Time Series (Shifted), \\n NG-GR-NQ-BD\")\n",
    "plt.xlabel(\"Date\")\n",
    "plt.ylabel(\"Tmax (C)\")\n",
    "plt.xticks(rotation=90)\n",
    "plt.gca().legend(('NM','ND','N2','N3','N4','N5','N6'),\n",
    "                 title='Points', bbox_to_anchor=(1.05, 1), loc='upper left')\n",
    "plt.ylim([-20, 30])\n",
    "plt.show()"
   ]
  },
  {
   "cell_type": "markdown",
   "id": "21f45cd9",
   "metadata": {},
   "source": [
    "fin."
   ]
  }
 ],
 "metadata": {
  "kernelspec": {
   "display_name": "Python 3",
   "language": "python",
   "name": "python3"
  },
  "language_info": {
   "codemirror_mode": {
    "name": "ipython",
    "version": 3
   },
   "file_extension": ".py",
   "mimetype": "text/x-python",
   "name": "python",
   "nbconvert_exporter": "python",
   "pygments_lexer": "ipython3",
   "version": "3.8.0"
  }
 },
 "nbformat": 4,
 "nbformat_minor": 5
}
