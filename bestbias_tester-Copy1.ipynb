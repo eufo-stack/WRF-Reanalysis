{
 "cells": [
  {
   "cell_type": "code",
   "execution_count": 1,
   "id": "b4df31b0",
   "metadata": {},
   "outputs": [],
   "source": [
    "# imports\n",
    "import numpy as np\n",
    "import pandas as pd\n",
    "import xarray as xr"
   ]
  },
  {
   "cell_type": "code",
   "execution_count": 2,
   "id": "967dd6c4",
   "metadata": {},
   "outputs": [],
   "source": [
    "# reading in wrf files\n",
    "next_06 = xr.open_dataarray('./wrf_2017020500_NG-GR-NQ-BD_maxd02_2017-02-06_next.nc')\n",
    "next_07 = xr.open_dataarray('./wrf_2017020500_NG-GR-NQ-BD_maxd02_2017-02-07_next.nc')\n",
    "next_08 = xr.open_dataarray('./wrf_2017020500_NG-GR-NQ-BD_maxd02_2017-02-08_next.nc')\n",
    "next_09 = xr.open_dataarray('./wrf_2017020500_NG-GR-NQ-BD_maxd02_2017-02-09_next.nc')\n",
    "next_10 = xr.open_dataarray('./wrf_2017020500_NG-GR-NQ-BD_maxd02_2017-02-10_next.nc')\n",
    "next_11 = xr.open_dataarray('./wrf_2017020500_NG-GR-NQ-BD_maxd02_2017-02-11_next.nc')\n",
    "next_12 = xr.open_dataarray('./wrf_2017020500_NG-GR-NQ-BD_maxd02_2017-02-12_next.nc')\n",
    "next_13 = xr.open_dataarray('./wrf_2017020500_NG-GR-NQ-BD_maxd02_2017-02-13_next.nc')\n",
    "next_14 = xr.open_dataarray('./wrf_2017020500_NG-GR-NQ-BD_maxd02_2017-02-14_next.nc')\n",
    "next_15 = xr.open_dataarray('./wrf_2017020500_NG-GR-NQ-BD_maxd02_2017-02-15_next.nc')\n",
    "\n",
    "prev_06 = xr.open_dataarray('./wrf_2017020500_NG-GR-NQ-BD_maxd02_2017-02-06_prev.nc')\n",
    "prev_07 = xr.open_dataarray('./wrf_2017020500_NG-GR-NQ-BD_maxd02_2017-02-07_prev.nc')\n",
    "prev_08 = xr.open_dataarray('./wrf_2017020500_NG-GR-NQ-BD_maxd02_2017-02-08_prev.nc')\n",
    "prev_09 = xr.open_dataarray('./wrf_2017020500_NG-GR-NQ-BD_maxd02_2017-02-09_prev.nc')\n",
    "prev_10 = xr.open_dataarray('./wrf_2017020500_NG-GR-NQ-BD_maxd02_2017-02-10_prev.nc')\n",
    "prev_11 = xr.open_dataarray('./wrf_2017020500_NG-GR-NQ-BD_maxd02_2017-02-11_prev.nc')\n",
    "prev_12 = xr.open_dataarray('./wrf_2017020500_NG-GR-NQ-BD_maxd02_2017-02-12_prev.nc')\n",
    "prev_13 = xr.open_dataarray('./wrf_2017020500_NG-GR-NQ-BD_maxd02_2017-02-13_prev.nc')\n",
    "prev_14 = xr.open_dataarray('./wrf_2017020500_NG-GR-NQ-BD_maxd02_2017-02-14_prev.nc')\n",
    "prev_15 = xr.open_dataarray('./wrf_2017020500_NG-GR-NQ-BD_maxd02_2017-02-15_prev.nc')"
   ]
  },
  {
   "cell_type": "code",
   "execution_count": 3,
   "id": "53fc3bc1",
   "metadata": {},
   "outputs": [
    {
     "name": "stdout",
     "output_type": "stream",
     "text": [
      "         n6   n7   n8   n9  n10  n11  n12  n13  n14  n15   p6   p7   p8   p9  \\\n",
      "0       0.0  0.0  0.0  0.0  0.0  0.0  0.0  0.0  0.0  0.0  0.0  0.0  0.0  0.0   \n",
      "1       0.0  0.0  0.0  0.0  0.0  0.0  0.0  0.0  0.0  0.0  0.0  0.0  0.0  0.0   \n",
      "2       0.0  0.0  0.0  0.0  0.0  0.0  0.0  0.0  0.0  0.0  0.0  0.0  0.0  0.0   \n",
      "3       0.0  0.0  0.0  0.0  0.0  0.0  0.0  0.0  0.0  0.0  0.0  0.0  0.0  0.0   \n",
      "4       0.0  0.0  0.0  0.0  0.0  0.0  0.0  0.0  0.0  0.0  0.0  0.0  0.0  0.0   \n",
      "...     ...  ...  ...  ...  ...  ...  ...  ...  ...  ...  ...  ...  ...  ...   \n",
      "409363  0.0  0.0  0.0  0.0  0.0  0.0  0.0  0.0  0.0  0.0  0.0  0.0  0.0  0.0   \n",
      "409364  0.0  0.0  0.0  0.0  0.0  0.0  0.0  0.0  0.0  0.0  0.0  0.0  0.0  0.0   \n",
      "409365  0.0  0.0  0.0  0.0  0.0  0.0  0.0  0.0  0.0  0.0  0.0  0.0  0.0  0.0   \n",
      "409366  0.0  0.0  0.0  0.0  0.0  0.0  0.0  0.0  0.0  0.0  0.0  0.0  0.0  0.0   \n",
      "409367  0.0  0.0  0.0  0.0  0.0  0.0  0.0  0.0  0.0  0.0  0.0  0.0  0.0  0.0   \n",
      "\n",
      "        p10  p11  p12  p13  p14  p15  \n",
      "0       0.0  0.0  0.0  0.0  0.0  0.0  \n",
      "1       0.0  0.0  0.0  0.0  0.0  0.0  \n",
      "2       0.0  0.0  0.0  0.0  0.0  0.0  \n",
      "3       0.0  0.0  0.0  0.0  0.0  0.0  \n",
      "4       0.0  0.0  0.0  0.0  0.0  0.0  \n",
      "...     ...  ...  ...  ...  ...  ...  \n",
      "409363  0.0  0.0  0.0  0.0  0.0  0.0  \n",
      "409364  0.0  0.0  0.0  0.0  0.0  0.0  \n",
      "409365  0.0  0.0  0.0  0.0  0.0  0.0  \n",
      "409366  0.0  0.0  0.0  0.0  0.0  0.0  \n",
      "409367  0.0  0.0  0.0  0.0  0.0  0.0  \n",
      "\n",
      "[409368 rows x 20 columns]\n"
     ]
    }
   ],
   "source": [
    "\n",
    "d6 = next_06.data.flatten()\n",
    "d7 = next_07.data.flatten()\n",
    "d8 = next_08.data.flatten()\n",
    "d9 = next_09.data.flatten()\n",
    "d10 = next_10.data.flatten()\n",
    "d11 = next_11.data.flatten()\n",
    "d12 = next_12.data.flatten()\n",
    "d13 = next_13.data.flatten()\n",
    "d14 = next_14.data.flatten()\n",
    "d15 = next_15.data.flatten()\n",
    "p6 = prev_06.data.flatten()\n",
    "p7 = prev_07.data.flatten()\n",
    "p8 = prev_08.data.flatten()\n",
    "p9 = prev_09.data.flatten()\n",
    "p10 = prev_10.data.flatten()\n",
    "p11 = prev_11.data.flatten()\n",
    "p12 = prev_12.data.flatten()\n",
    "p13 = prev_13.data.flatten()\n",
    "p14 = prev_14.data.flatten()\n",
    "p15 = prev_15.data.flatten()\n",
    "\n",
    "bn_data = {\n",
    "          'n6': d6, 'n7': d7, 'n8': d7, 'n9': d9, 'n10': d10, 'n11': d11, 'n12': d12, 'n13': d13, 'n14': d14, 'n15': d15,\n",
    "          'p6': p6, 'p7': p7, 'p8': p7, 'p9': p9, 'p10': p10, 'p11': p11, 'p12': p12, 'p13': p13, 'p14': p14, 'p15': p15}\n",
    "       \n",
    "bn = pd.DataFrame(bn_data)\n",
    "print(bn)"
   ]
  },
  {
   "cell_type": "code",
   "execution_count": 4,
   "id": "222575d2",
   "metadata": {},
   "outputs": [
    {
     "name": "stdout",
     "output_type": "stream",
     "text": [
      "Prev Bias, Prev Rmse\n",
      "-0.48 4.21\n",
      "Next Bias, Next Rmse\n",
      "-0.5 4.08\n"
     ]
    }
   ],
   "source": [
    "out_prev = pd.DataFrame()\n",
    "out_next = pd.DataFrame()\n",
    "def diff(num_str, day, table, out):\n",
    "    fn = '/cw3e/mead/projects/cwp103/scratch/ldehaan/Livneh/ptt_2017.nc'\n",
    "    liv_file = xr.open_dataset(fn)\n",
    "    liv = liv_file['Tmax'][day].data.flatten()\n",
    "    table[num_str][table[num_str] == 0.0] = np.NAN\n",
    "    table[num_str] = table[num_str] - 273.15\n",
    "    subtr = np.subtract(np.array(table[num_str]), liv)\n",
    "    out[num_str] = subtr\n",
    "prev_d = ['p6','p7','p8','p9','p10','p11','p12','p13','p14','p15']\n",
    "next_d = ['n6','n7','n8','n9','n10','n11','n12','n13','n14','n15']\n",
    "liv_days = [36,37,38,39,40,41,42,43,44,45]\n",
    "for i in np.arange(len(liv_days)):\n",
    "    diff(prev_d[i],liv_days[i],bn,out_prev)\n",
    "    diff(next_d[i],liv_days[i],bn,out_next)\n",
    "bias_prev = out_prev.values.flatten()[~np.isnan(out_prev.values.flatten())].mean()\n",
    "bias_next = out_next.values.flatten()[~np.isnan(out_next.values.flatten())].mean()\n",
    "sq_all_prev = out_prev**2\n",
    "rmse_prev = np.sqrt(sq_all_prev.values.flatten()[~np.isnan(sq_all_prev.values.flatten())].mean())\n",
    "sq_all_next = out_next**2\n",
    "rmse_next = np.sqrt(sq_all_next.values.flatten()[~np.isnan(sq_all_next.values.flatten())].mean())\n",
    "print('Prev Bias, Prev Rmse')\n",
    "print(round(bias_prev,2), round(rmse_prev,2))\n",
    "print('Next Bias, Next Rmse')\n",
    "print(round(bias_next,2), round(rmse_next,2))"
   ]
  },
  {
   "cell_type": "code",
   "execution_count": null,
   "id": "e67271c7",
   "metadata": {},
   "outputs": [],
   "source": []
  }
 ],
 "metadata": {
  "kernelspec": {
   "display_name": "Python 3",
   "language": "python",
   "name": "python3"
  },
  "language_info": {
   "codemirror_mode": {
    "name": "ipython",
    "version": 3
   },
   "file_extension": ".py",
   "mimetype": "text/x-python",
   "name": "python",
   "nbconvert_exporter": "python",
   "pygments_lexer": "ipython3",
   "version": "3.8.0"
  }
 },
 "nbformat": 4,
 "nbformat_minor": 5
}
